{
 "cells": [
  {
   "cell_type": "markdown",
   "metadata": {},
   "source": [
    "# Predizendo pontos marcadas por jogadores da NBA"
   ]
  },
  {
   "cell_type": "code",
   "execution_count": 1,
   "metadata": {},
   "outputs": [],
   "source": [
    "import pandas as pd\n",
    "import numpy as np\n",
    "import matplotlib.pyplot as plt\n",
    "import seaborn as sns\n",
    "\n",
    "import plotly.express as px\n",
    "import plotly.graph_objects as go\n",
    "from plotly.subplots import make_subplots\n",
    "\n",
    "\n",
    "from sklearn.model_selection import train_test_split, GridSearchCV, cross_val_score\n",
    "from sklearn.metrics import classification_report, confusion_matrix, f1_score, r2_score\n",
    "\n",
    "from sklearn.linear_model import LinearRegression\n",
    "from sklearn.neighbors import KNeighborsRegressor\n",
    "from sklearn.tree import DecisionTreeRegressor\n",
    "from sklearn.ensemble import RandomForestRegressor"
   ]
  },
  {
   "cell_type": "markdown",
   "metadata": {},
   "source": [
    "### Link para o dataset\n",
    "https://www.kaggle.com/datasets/amirhosseinmirzaie/nba-players-stats2023-season"
   ]
  },
  {
   "cell_type": "code",
   "execution_count": 2,
   "metadata": {},
   "outputs": [
    {
     "data": {
      "text/html": [
       "<div>\n",
       "<style scoped>\n",
       "    .dataframe tbody tr th:only-of-type {\n",
       "        vertical-align: middle;\n",
       "    }\n",
       "\n",
       "    .dataframe tbody tr th {\n",
       "        vertical-align: top;\n",
       "    }\n",
       "\n",
       "    .dataframe thead th {\n",
       "        text-align: right;\n",
       "    }\n",
       "</style>\n",
       "<table border=\"1\" class=\"dataframe\">\n",
       "  <thead>\n",
       "    <tr style=\"text-align: right;\">\n",
       "      <th></th>\n",
       "      <th>PName</th>\n",
       "      <th>POS</th>\n",
       "      <th>Team</th>\n",
       "      <th>Age</th>\n",
       "      <th>GP</th>\n",
       "      <th>W</th>\n",
       "      <th>L</th>\n",
       "      <th>Min</th>\n",
       "      <th>PTS</th>\n",
       "      <th>FGM</th>\n",
       "      <th>...</th>\n",
       "      <th>REB</th>\n",
       "      <th>AST</th>\n",
       "      <th>TOV</th>\n",
       "      <th>STL</th>\n",
       "      <th>BLK</th>\n",
       "      <th>PF</th>\n",
       "      <th>FP</th>\n",
       "      <th>DD2</th>\n",
       "      <th>TD3</th>\n",
       "      <th>+/-</th>\n",
       "    </tr>\n",
       "  </thead>\n",
       "  <tbody>\n",
       "    <tr>\n",
       "      <th>0</th>\n",
       "      <td>Jayson Tatum</td>\n",
       "      <td>SF</td>\n",
       "      <td>BOS</td>\n",
       "      <td>25</td>\n",
       "      <td>74</td>\n",
       "      <td>52</td>\n",
       "      <td>22</td>\n",
       "      <td>2732.2</td>\n",
       "      <td>2225</td>\n",
       "      <td>727</td>\n",
       "      <td>...</td>\n",
       "      <td>649</td>\n",
       "      <td>342</td>\n",
       "      <td>213</td>\n",
       "      <td>78</td>\n",
       "      <td>51</td>\n",
       "      <td>160</td>\n",
       "      <td>3691</td>\n",
       "      <td>31</td>\n",
       "      <td>1</td>\n",
       "      <td>470</td>\n",
       "    </tr>\n",
       "    <tr>\n",
       "      <th>1</th>\n",
       "      <td>Joel Embiid</td>\n",
       "      <td>C</td>\n",
       "      <td>PHI</td>\n",
       "      <td>29</td>\n",
       "      <td>66</td>\n",
       "      <td>43</td>\n",
       "      <td>23</td>\n",
       "      <td>2284.1</td>\n",
       "      <td>2183</td>\n",
       "      <td>728</td>\n",
       "      <td>...</td>\n",
       "      <td>670</td>\n",
       "      <td>274</td>\n",
       "      <td>226</td>\n",
       "      <td>66</td>\n",
       "      <td>112</td>\n",
       "      <td>205</td>\n",
       "      <td>3706</td>\n",
       "      <td>39</td>\n",
       "      <td>1</td>\n",
       "      <td>424</td>\n",
       "    </tr>\n",
       "    <tr>\n",
       "      <th>2</th>\n",
       "      <td>Luka Doncic</td>\n",
       "      <td>PG</td>\n",
       "      <td>DAL</td>\n",
       "      <td>24</td>\n",
       "      <td>66</td>\n",
       "      <td>33</td>\n",
       "      <td>33</td>\n",
       "      <td>2390.5</td>\n",
       "      <td>2138</td>\n",
       "      <td>719</td>\n",
       "      <td>...</td>\n",
       "      <td>569</td>\n",
       "      <td>529</td>\n",
       "      <td>236</td>\n",
       "      <td>90</td>\n",
       "      <td>33</td>\n",
       "      <td>166</td>\n",
       "      <td>3747</td>\n",
       "      <td>36</td>\n",
       "      <td>10</td>\n",
       "      <td>128</td>\n",
       "    </tr>\n",
       "  </tbody>\n",
       "</table>\n",
       "<p>3 rows × 30 columns</p>\n",
       "</div>"
      ],
      "text/plain": [
       "          PName POS Team  Age  GP   W   L     Min   PTS  FGM  ...  REB  AST  \\\n",
       "0  Jayson Tatum  SF  BOS   25  74  52  22  2732.2  2225  727  ...  649  342   \n",
       "1   Joel Embiid   C  PHI   29  66  43  23  2284.1  2183  728  ...  670  274   \n",
       "2   Luka Doncic  PG  DAL   24  66  33  33  2390.5  2138  719  ...  569  529   \n",
       "\n",
       "   TOV  STL  BLK   PF    FP  DD2  TD3  +/-  \n",
       "0  213   78   51  160  3691   31    1  470  \n",
       "1  226   66  112  205  3706   39    1  424  \n",
       "2  236   90   33  166  3747   36   10  128  \n",
       "\n",
       "[3 rows x 30 columns]"
      ]
     },
     "execution_count": 2,
     "metadata": {},
     "output_type": "execute_result"
    }
   ],
   "source": [
    "df = pd.read_csv(\"2023_nba_player_stats.csv\")\n",
    "\n",
    "df.head(3)"
   ]
  },
  {
   "cell_type": "code",
   "execution_count": 3,
   "metadata": {},
   "outputs": [
    {
     "name": "stdout",
     "output_type": "stream",
     "text": [
      "This Dataset have 539 rows and 30 columns.\n"
     ]
    }
   ],
   "source": [
    "row, col = df.shape\n",
    "print(\"This Dataset have\", row, \"rows and\", col, \"columns.\")"
   ]
  },
  {
   "cell_type": "code",
   "execution_count": 4,
   "metadata": {},
   "outputs": [
    {
     "name": "stdout",
     "output_type": "stream",
     "text": [
      "Number of duplicate data :  0\n"
     ]
    }
   ],
   "source": [
    "print(\"Number of duplicate data : \", df.duplicated().sum())"
   ]
  },
  {
   "cell_type": "code",
   "execution_count": 5,
   "metadata": {},
   "outputs": [
    {
     "name": "stdout",
     "output_type": "stream",
     "text": [
      "<class 'pandas.core.frame.DataFrame'>\n",
      "RangeIndex: 539 entries, 0 to 538\n",
      "Data columns (total 30 columns):\n",
      " #   Column  Non-Null Count  Dtype  \n",
      "---  ------  --------------  -----  \n",
      " 0   PName   539 non-null    object \n",
      " 1   POS     534 non-null    object \n",
      " 2   Team    539 non-null    object \n",
      " 3   Age     539 non-null    int64  \n",
      " 4   GP      539 non-null    int64  \n",
      " 5   W       539 non-null    int64  \n",
      " 6   L       539 non-null    int64  \n",
      " 7   Min     539 non-null    float64\n",
      " 8   PTS     539 non-null    int64  \n",
      " 9   FGM     539 non-null    int64  \n",
      " 10  FGA     539 non-null    int64  \n",
      " 11  FG%     539 non-null    float64\n",
      " 12  3PM     539 non-null    int64  \n",
      " 13  3PA     539 non-null    int64  \n",
      " 14  3P%     539 non-null    float64\n",
      " 15  FTM     539 non-null    int64  \n",
      " 16  FTA     539 non-null    int64  \n",
      " 17  FT%     539 non-null    float64\n",
      " 18  OREB    539 non-null    int64  \n",
      " 19  DREB    539 non-null    int64  \n",
      " 20  REB     539 non-null    int64  \n",
      " 21  AST     539 non-null    int64  \n",
      " 22  TOV     539 non-null    int64  \n",
      " 23  STL     539 non-null    int64  \n",
      " 24  BLK     539 non-null    int64  \n",
      " 25  PF      539 non-null    int64  \n",
      " 26  FP      539 non-null    int64  \n",
      " 27  DD2     539 non-null    int64  \n",
      " 28  TD3     539 non-null    int64  \n",
      " 29  +/-     539 non-null    int64  \n",
      "dtypes: float64(4), int64(23), object(3)\n",
      "memory usage: 126.5+ KB\n"
     ]
    }
   ],
   "source": [
    "df.info()"
   ]
  },
  {
   "cell_type": "code",
   "execution_count": 6,
   "metadata": {},
   "outputs": [
    {
     "data": {
      "text/html": [
       "<div>\n",
       "<style scoped>\n",
       "    .dataframe tbody tr th:only-of-type {\n",
       "        vertical-align: middle;\n",
       "    }\n",
       "\n",
       "    .dataframe tbody tr th {\n",
       "        vertical-align: top;\n",
       "    }\n",
       "\n",
       "    .dataframe thead th {\n",
       "        text-align: right;\n",
       "    }\n",
       "</style>\n",
       "<table border=\"1\" class=\"dataframe\">\n",
       "  <thead>\n",
       "    <tr style=\"text-align: right;\">\n",
       "      <th></th>\n",
       "      <th>Age</th>\n",
       "      <th>GP</th>\n",
       "      <th>W</th>\n",
       "      <th>L</th>\n",
       "      <th>Min</th>\n",
       "      <th>PTS</th>\n",
       "      <th>FGM</th>\n",
       "      <th>FGA</th>\n",
       "      <th>FG%</th>\n",
       "      <th>3PM</th>\n",
       "      <th>...</th>\n",
       "      <th>REB</th>\n",
       "      <th>AST</th>\n",
       "      <th>TOV</th>\n",
       "      <th>STL</th>\n",
       "      <th>BLK</th>\n",
       "      <th>PF</th>\n",
       "      <th>FP</th>\n",
       "      <th>DD2</th>\n",
       "      <th>TD3</th>\n",
       "      <th>+/-</th>\n",
       "    </tr>\n",
       "  </thead>\n",
       "  <tbody>\n",
       "    <tr>\n",
       "      <th>count</th>\n",
       "      <td>539.000000</td>\n",
       "      <td>539.000000</td>\n",
       "      <td>539.000000</td>\n",
       "      <td>539.000000</td>\n",
       "      <td>539.000000</td>\n",
       "      <td>539.000000</td>\n",
       "      <td>539.000000</td>\n",
       "      <td>539.000000</td>\n",
       "      <td>539.000000</td>\n",
       "      <td>539.000000</td>\n",
       "      <td>...</td>\n",
       "      <td>539.000000</td>\n",
       "      <td>539.000000</td>\n",
       "      <td>539.000000</td>\n",
       "      <td>539.000000</td>\n",
       "      <td>539.000000</td>\n",
       "      <td>539.000000</td>\n",
       "      <td>539.000000</td>\n",
       "      <td>539.000000</td>\n",
       "      <td>539.000000</td>\n",
       "      <td>539.000000</td>\n",
       "    </tr>\n",
       "    <tr>\n",
       "      <th>mean</th>\n",
       "      <td>25.970315</td>\n",
       "      <td>48.040816</td>\n",
       "      <td>24.018553</td>\n",
       "      <td>24.022263</td>\n",
       "      <td>1103.617625</td>\n",
       "      <td>523.426716</td>\n",
       "      <td>191.576994</td>\n",
       "      <td>403.005566</td>\n",
       "      <td>46.325232</td>\n",
       "      <td>56.324675</td>\n",
       "      <td>...</td>\n",
       "      <td>198.254174</td>\n",
       "      <td>115.545455</td>\n",
       "      <td>61.300557</td>\n",
       "      <td>33.270872</td>\n",
       "      <td>21.241187</td>\n",
       "      <td>91.181818</td>\n",
       "      <td>1036.938776</td>\n",
       "      <td>4.011132</td>\n",
       "      <td>0.220779</td>\n",
       "      <td>0.000000</td>\n",
       "    </tr>\n",
       "    <tr>\n",
       "      <th>std</th>\n",
       "      <td>4.315513</td>\n",
       "      <td>24.650686</td>\n",
       "      <td>14.496366</td>\n",
       "      <td>13.445866</td>\n",
       "      <td>827.765114</td>\n",
       "      <td>498.084360</td>\n",
       "      <td>178.351286</td>\n",
       "      <td>369.595909</td>\n",
       "      <td>10.967271</td>\n",
       "      <td>60.916821</td>\n",
       "      <td>...</td>\n",
       "      <td>181.819962</td>\n",
       "      <td>129.578453</td>\n",
       "      <td>58.279185</td>\n",
       "      <td>28.336745</td>\n",
       "      <td>26.529238</td>\n",
       "      <td>66.206731</td>\n",
       "      <td>894.081896</td>\n",
       "      <td>8.770932</td>\n",
       "      <td>1.564432</td>\n",
       "      <td>148.223909</td>\n",
       "    </tr>\n",
       "    <tr>\n",
       "      <th>min</th>\n",
       "      <td>19.000000</td>\n",
       "      <td>1.000000</td>\n",
       "      <td>0.000000</td>\n",
       "      <td>0.000000</td>\n",
       "      <td>1.000000</td>\n",
       "      <td>0.000000</td>\n",
       "      <td>0.000000</td>\n",
       "      <td>0.000000</td>\n",
       "      <td>0.000000</td>\n",
       "      <td>0.000000</td>\n",
       "      <td>...</td>\n",
       "      <td>0.000000</td>\n",
       "      <td>0.000000</td>\n",
       "      <td>0.000000</td>\n",
       "      <td>0.000000</td>\n",
       "      <td>0.000000</td>\n",
       "      <td>0.000000</td>\n",
       "      <td>-1.000000</td>\n",
       "      <td>0.000000</td>\n",
       "      <td>0.000000</td>\n",
       "      <td>-642.000000</td>\n",
       "    </tr>\n",
       "    <tr>\n",
       "      <th>25%</th>\n",
       "      <td>23.000000</td>\n",
       "      <td>30.500000</td>\n",
       "      <td>12.000000</td>\n",
       "      <td>14.000000</td>\n",
       "      <td>329.000000</td>\n",
       "      <td>120.500000</td>\n",
       "      <td>45.500000</td>\n",
       "      <td>93.500000</td>\n",
       "      <td>41.650000</td>\n",
       "      <td>5.000000</td>\n",
       "      <td>...</td>\n",
       "      <td>50.500000</td>\n",
       "      <td>22.000000</td>\n",
       "      <td>14.500000</td>\n",
       "      <td>8.500000</td>\n",
       "      <td>5.000000</td>\n",
       "      <td>32.000000</td>\n",
       "      <td>254.000000</td>\n",
       "      <td>0.000000</td>\n",
       "      <td>0.000000</td>\n",
       "      <td>-70.000000</td>\n",
       "    </tr>\n",
       "    <tr>\n",
       "      <th>50%</th>\n",
       "      <td>25.000000</td>\n",
       "      <td>54.000000</td>\n",
       "      <td>25.000000</td>\n",
       "      <td>25.000000</td>\n",
       "      <td>970.200000</td>\n",
       "      <td>374.000000</td>\n",
       "      <td>138.000000</td>\n",
       "      <td>300.000000</td>\n",
       "      <td>45.500000</td>\n",
       "      <td>36.000000</td>\n",
       "      <td>...</td>\n",
       "      <td>159.000000</td>\n",
       "      <td>69.000000</td>\n",
       "      <td>44.000000</td>\n",
       "      <td>28.000000</td>\n",
       "      <td>13.000000</td>\n",
       "      <td>86.000000</td>\n",
       "      <td>810.000000</td>\n",
       "      <td>0.000000</td>\n",
       "      <td>0.000000</td>\n",
       "      <td>-7.000000</td>\n",
       "    </tr>\n",
       "    <tr>\n",
       "      <th>75%</th>\n",
       "      <td>29.000000</td>\n",
       "      <td>68.000000</td>\n",
       "      <td>36.000000</td>\n",
       "      <td>34.000000</td>\n",
       "      <td>1845.900000</td>\n",
       "      <td>769.500000</td>\n",
       "      <td>283.500000</td>\n",
       "      <td>598.500000</td>\n",
       "      <td>50.600000</td>\n",
       "      <td>92.000000</td>\n",
       "      <td>...</td>\n",
       "      <td>286.000000</td>\n",
       "      <td>162.500000</td>\n",
       "      <td>92.500000</td>\n",
       "      <td>51.000000</td>\n",
       "      <td>28.000000</td>\n",
       "      <td>140.000000</td>\n",
       "      <td>1646.000000</td>\n",
       "      <td>3.000000</td>\n",
       "      <td>0.000000</td>\n",
       "      <td>57.000000</td>\n",
       "    </tr>\n",
       "    <tr>\n",
       "      <th>max</th>\n",
       "      <td>42.000000</td>\n",
       "      <td>83.000000</td>\n",
       "      <td>57.000000</td>\n",
       "      <td>60.000000</td>\n",
       "      <td>2963.200000</td>\n",
       "      <td>2225.000000</td>\n",
       "      <td>728.000000</td>\n",
       "      <td>1559.000000</td>\n",
       "      <td>100.000000</td>\n",
       "      <td>301.000000</td>\n",
       "      <td>...</td>\n",
       "      <td>973.000000</td>\n",
       "      <td>741.000000</td>\n",
       "      <td>300.000000</td>\n",
       "      <td>128.000000</td>\n",
       "      <td>193.000000</td>\n",
       "      <td>279.000000</td>\n",
       "      <td>3842.000000</td>\n",
       "      <td>65.000000</td>\n",
       "      <td>29.000000</td>\n",
       "      <td>640.000000</td>\n",
       "    </tr>\n",
       "  </tbody>\n",
       "</table>\n",
       "<p>8 rows × 27 columns</p>\n",
       "</div>"
      ],
      "text/plain": [
       "              Age          GP           W           L          Min  \\\n",
       "count  539.000000  539.000000  539.000000  539.000000   539.000000   \n",
       "mean    25.970315   48.040816   24.018553   24.022263  1103.617625   \n",
       "std      4.315513   24.650686   14.496366   13.445866   827.765114   \n",
       "min     19.000000    1.000000    0.000000    0.000000     1.000000   \n",
       "25%     23.000000   30.500000   12.000000   14.000000   329.000000   \n",
       "50%     25.000000   54.000000   25.000000   25.000000   970.200000   \n",
       "75%     29.000000   68.000000   36.000000   34.000000  1845.900000   \n",
       "max     42.000000   83.000000   57.000000   60.000000  2963.200000   \n",
       "\n",
       "               PTS         FGM          FGA         FG%         3PM  ...  \\\n",
       "count   539.000000  539.000000   539.000000  539.000000  539.000000  ...   \n",
       "mean    523.426716  191.576994   403.005566   46.325232   56.324675  ...   \n",
       "std     498.084360  178.351286   369.595909   10.967271   60.916821  ...   \n",
       "min       0.000000    0.000000     0.000000    0.000000    0.000000  ...   \n",
       "25%     120.500000   45.500000    93.500000   41.650000    5.000000  ...   \n",
       "50%     374.000000  138.000000   300.000000   45.500000   36.000000  ...   \n",
       "75%     769.500000  283.500000   598.500000   50.600000   92.000000  ...   \n",
       "max    2225.000000  728.000000  1559.000000  100.000000  301.000000  ...   \n",
       "\n",
       "              REB         AST         TOV         STL         BLK          PF  \\\n",
       "count  539.000000  539.000000  539.000000  539.000000  539.000000  539.000000   \n",
       "mean   198.254174  115.545455   61.300557   33.270872   21.241187   91.181818   \n",
       "std    181.819962  129.578453   58.279185   28.336745   26.529238   66.206731   \n",
       "min      0.000000    0.000000    0.000000    0.000000    0.000000    0.000000   \n",
       "25%     50.500000   22.000000   14.500000    8.500000    5.000000   32.000000   \n",
       "50%    159.000000   69.000000   44.000000   28.000000   13.000000   86.000000   \n",
       "75%    286.000000  162.500000   92.500000   51.000000   28.000000  140.000000   \n",
       "max    973.000000  741.000000  300.000000  128.000000  193.000000  279.000000   \n",
       "\n",
       "                FP         DD2         TD3         +/-  \n",
       "count   539.000000  539.000000  539.000000  539.000000  \n",
       "mean   1036.938776    4.011132    0.220779    0.000000  \n",
       "std     894.081896    8.770932    1.564432  148.223909  \n",
       "min      -1.000000    0.000000    0.000000 -642.000000  \n",
       "25%     254.000000    0.000000    0.000000  -70.000000  \n",
       "50%     810.000000    0.000000    0.000000   -7.000000  \n",
       "75%    1646.000000    3.000000    0.000000   57.000000  \n",
       "max    3842.000000   65.000000   29.000000  640.000000  \n",
       "\n",
       "[8 rows x 27 columns]"
      ]
     },
     "execution_count": 6,
     "metadata": {},
     "output_type": "execute_result"
    }
   ],
   "source": [
    "df.describe(include=np.number)"
   ]
  },
  {
   "cell_type": "code",
   "execution_count": 7,
   "metadata": {},
   "outputs": [
    {
     "data": {
      "text/html": [
       "<div>\n",
       "<style scoped>\n",
       "    .dataframe tbody tr th:only-of-type {\n",
       "        vertical-align: middle;\n",
       "    }\n",
       "\n",
       "    .dataframe tbody tr th {\n",
       "        vertical-align: top;\n",
       "    }\n",
       "\n",
       "    .dataframe thead th {\n",
       "        text-align: right;\n",
       "    }\n",
       "</style>\n",
       "<table border=\"1\" class=\"dataframe\">\n",
       "  <thead>\n",
       "    <tr style=\"text-align: right;\">\n",
       "      <th></th>\n",
       "      <th>PName</th>\n",
       "      <th>POS</th>\n",
       "      <th>Team</th>\n",
       "    </tr>\n",
       "  </thead>\n",
       "  <tbody>\n",
       "    <tr>\n",
       "      <th>count</th>\n",
       "      <td>539</td>\n",
       "      <td>534</td>\n",
       "      <td>539</td>\n",
       "    </tr>\n",
       "    <tr>\n",
       "      <th>unique</th>\n",
       "      <td>539</td>\n",
       "      <td>7</td>\n",
       "      <td>30</td>\n",
       "    </tr>\n",
       "    <tr>\n",
       "      <th>top</th>\n",
       "      <td>Jayson Tatum</td>\n",
       "      <td>SG</td>\n",
       "      <td>DAL</td>\n",
       "    </tr>\n",
       "    <tr>\n",
       "      <th>freq</th>\n",
       "      <td>1</td>\n",
       "      <td>96</td>\n",
       "      <td>21</td>\n",
       "    </tr>\n",
       "  </tbody>\n",
       "</table>\n",
       "</div>"
      ],
      "text/plain": [
       "               PName  POS Team\n",
       "count            539  534  539\n",
       "unique           539    7   30\n",
       "top     Jayson Tatum   SG  DAL\n",
       "freq               1   96   21"
      ]
     },
     "execution_count": 7,
     "metadata": {},
     "output_type": "execute_result"
    }
   ],
   "source": [
    "df.describe(include=\"object\")"
   ]
  },
  {
   "cell_type": "code",
   "execution_count": 8,
   "metadata": {},
   "outputs": [
    {
     "data": {
      "text/plain": [
       "PName    0\n",
       "POS      5\n",
       "Team     0\n",
       "Age      0\n",
       "GP       0\n",
       "W        0\n",
       "L        0\n",
       "Min      0\n",
       "PTS      0\n",
       "FGM      0\n",
       "FGA      0\n",
       "FG%      0\n",
       "3PM      0\n",
       "3PA      0\n",
       "3P%      0\n",
       "FTM      0\n",
       "FTA      0\n",
       "FT%      0\n",
       "OREB     0\n",
       "DREB     0\n",
       "REB      0\n",
       "AST      0\n",
       "TOV      0\n",
       "STL      0\n",
       "BLK      0\n",
       "PF       0\n",
       "FP       0\n",
       "DD2      0\n",
       "TD3      0\n",
       "+/-      0\n",
       "dtype: int64"
      ]
     },
     "execution_count": 8,
     "metadata": {},
     "output_type": "execute_result"
    }
   ],
   "source": [
    "df.isna().sum()"
   ]
  },
  {
   "cell_type": "code",
   "execution_count": 9,
   "metadata": {},
   "outputs": [
    {
     "name": "stderr",
     "output_type": "stream",
     "text": [
      "C:\\Users\\lgaqu\\AppData\\Local\\Temp\\ipykernel_4488\\3416231543.py:1: FutureWarning: A value is trying to be set on a copy of a DataFrame or Series through chained assignment using an inplace method.\n",
      "The behavior will change in pandas 3.0. This inplace method will never work because the intermediate object on which we are setting values always behaves as a copy.\n",
      "\n",
      "For example, when doing 'df[col].method(value, inplace=True)', try using 'df.method({col: value}, inplace=True)' or df[col] = df[col].method(value) instead, to perform the operation inplace on the original object.\n",
      "\n",
      "\n",
      "  df[\"POS\"].fillna(\"SG\", inplace=True)\n"
     ]
    }
   ],
   "source": [
    "df[\"POS\"].fillna(\"SG\", inplace=True)"
   ]
  },
  {
   "cell_type": "code",
   "execution_count": 10,
   "metadata": {},
   "outputs": [
    {
     "data": {
      "application/vnd.plotly.v1+json": {
       "config": {
        "plotlyServerURL": "https://plot.ly"
       },
       "data": [
        {
         "alignmentgroup": "True",
         "bingroup": "x",
         "hovertemplate": "POS=%{x}<br>count=%{y}<extra></extra>",
         "legendgroup": "",
         "marker": {
          "color": "rgb(229, 134, 6)",
          "pattern": {
           "shape": ""
          }
         },
         "name": "",
         "offsetgroup": "",
         "orientation": "v",
         "showlegend": false,
         "type": "histogram",
         "x": [
          "SF",
          "C",
          "PG",
          "PG",
          "PF",
          "SG",
          "PF",
          "SG",
          "PG",
          "SG",
          "PG",
          "PG",
          "SF",
          "SG",
          "PF",
          "PF",
          "C",
          "SG",
          "SG",
          "SF",
          "PG",
          "PG",
          "PG",
          "PG",
          "SF",
          "SG",
          "C",
          "SG",
          "PF",
          "SG",
          "C",
          "PG",
          "SF",
          "SG",
          "SF",
          "PF",
          "C",
          "PF",
          "SG",
          "SF",
          "PG",
          "PF",
          "SF",
          "PG",
          "SG",
          "SG",
          "F",
          "SG",
          "SG",
          "SG",
          "PG",
          "SF",
          "PG",
          "PF",
          "SF",
          "PG",
          "PG",
          "SG",
          "SG",
          "C",
          "SF",
          "SF",
          "PG",
          "SG",
          "SG",
          "PG",
          "C",
          "SF",
          "PF",
          "SG",
          "PG",
          "PG",
          "SG",
          "SG",
          "PF",
          "SG",
          "SG",
          "SF",
          "C",
          "F",
          "C",
          "SF",
          "PF",
          "C",
          "PF",
          "SF",
          "SF",
          "F",
          "SF",
          "SG",
          "F",
          "SF",
          "SG",
          "G",
          "SF",
          "PG",
          "G",
          "PF",
          "PG",
          "F",
          "SF",
          "SG",
          "C",
          "C",
          "PF",
          "C",
          "PF",
          "SF",
          "SG",
          "SG",
          "C",
          "PG",
          "C",
          "C",
          "SG",
          "PF",
          "PG",
          "PG",
          "SG",
          "PF",
          "PG",
          "SG",
          "PG",
          "SF",
          "PG",
          "C",
          "SG",
          "PG",
          "PF",
          "SG",
          "PG",
          "PG",
          "C",
          "SG",
          "C",
          "F",
          "SG",
          "PF",
          "PF",
          "SG",
          "SG",
          "SF",
          "SF",
          "PF",
          "SF",
          "PG",
          "SG",
          "PF",
          "PG",
          "PF",
          "C",
          "SG",
          "SG",
          "PG",
          "SF",
          "SG",
          "SF",
          "PF",
          "C",
          "PG",
          "SG",
          "SG",
          "PG",
          "SF",
          "C",
          "SG",
          "G",
          "PF",
          "SF",
          "PF",
          "PG",
          "SF",
          "SG",
          "G",
          "SG",
          "PG",
          "SF",
          "PG",
          "SF",
          "SF",
          "SF",
          "PF",
          "PG",
          "PF",
          "F",
          "SF",
          "SG",
          "PG",
          "C",
          "SF",
          "PF",
          "PF",
          "C",
          "PG",
          "F",
          "C",
          "SG",
          "SG",
          "C",
          "C",
          "SF",
          "C",
          "F",
          "C",
          "SF",
          "PF",
          "SF",
          "SG",
          "PF",
          "PF",
          "PG",
          "SG",
          "SG",
          "SF",
          "SF",
          "PG",
          "C",
          "SF",
          "SG",
          "SG",
          "G",
          "PF",
          "PG",
          "SF",
          "PF",
          "PF",
          "C",
          "PF",
          "SF",
          "PF",
          "G",
          "PG",
          "PF",
          "SF",
          "SG",
          "PF",
          "PG",
          "G",
          "F",
          "SG",
          "PF",
          "C",
          "SF",
          "PG",
          "C",
          "SG",
          "PF",
          "PF",
          "C",
          "SG",
          "F",
          "PG",
          "SF",
          "G",
          "F",
          "SF",
          "PG",
          "G",
          "C",
          "C",
          "SF",
          "SG",
          "SF",
          "SF",
          "C",
          "PG",
          "C",
          "G",
          "PG",
          "SG",
          "SG",
          "F",
          "SG",
          "F",
          "PG",
          "SG",
          "SG",
          "SG",
          "PF",
          "C",
          "G",
          "SF",
          "PF",
          "SG",
          "F",
          "F",
          "C",
          "SF",
          "PF",
          "C",
          "SF",
          "SG",
          "SF",
          "SG",
          "SG",
          "PG",
          "SG",
          "SF",
          "PG",
          "SG",
          "SF",
          "PF",
          "PG",
          "G",
          "F",
          "PF",
          "SF",
          "SF",
          "C",
          "F",
          "PF",
          "F",
          "PG",
          "SF",
          "F",
          "F",
          "PF",
          "C",
          "PF",
          "F",
          "C",
          "C",
          "SG",
          "SG",
          "F",
          "G",
          "G",
          "PG",
          "PG",
          "PG",
          "PF",
          "PG",
          "F",
          "C",
          "PG",
          "C",
          "G",
          "SG",
          "PF",
          "PF",
          "PG",
          "SG",
          "PF",
          "F",
          "F",
          "F",
          "SF",
          "PF",
          "SF",
          "C",
          "C",
          "C",
          "PF",
          "PF",
          "G",
          "F",
          "SG",
          "SG",
          "C",
          "G",
          "G",
          "C",
          "C",
          "SG",
          "C",
          "SF",
          "SG",
          "F",
          "PG",
          "PF",
          "F",
          "C",
          "SG",
          "SF",
          "F",
          "G",
          "PG",
          "PF",
          "PG",
          "SF",
          "SF",
          "C",
          "G",
          "PF",
          "PG",
          "G",
          "G",
          "SG",
          "PG",
          "C",
          "G",
          "SG",
          "F",
          "PG",
          "PF",
          "F",
          "PF",
          "G",
          "C",
          "PF",
          "PF",
          "F",
          "F",
          "C",
          "F",
          "C",
          "PG",
          "PG",
          "C",
          "F",
          "PG",
          "F",
          "C",
          "SG",
          "SF",
          "C",
          "F",
          "G",
          "SG",
          "SG",
          "SG",
          "PF",
          "F",
          "G",
          "F",
          "G",
          "F",
          "G",
          "F",
          "PG",
          "F",
          "F",
          "F",
          "PG",
          "F",
          "F",
          "G",
          "G",
          "PF",
          "G",
          "G",
          "PF",
          "C",
          "SF",
          "SF",
          "G",
          "C",
          "PG",
          "F",
          "SF",
          "G",
          "F",
          "G",
          "G",
          "SF",
          "G",
          "C",
          "C",
          "C",
          "G",
          "G",
          "PG",
          "C",
          "G",
          "SG",
          "C",
          "G",
          "SF",
          "C",
          "F",
          "G",
          "PF",
          "G",
          "SG",
          "PF",
          "G",
          "SG",
          "PF",
          "SG",
          "G",
          "G",
          "C",
          "G",
          "PF",
          "G",
          "F",
          "SG",
          "G",
          "G",
          "SF",
          "SF",
          "F",
          "SG",
          "C",
          "F",
          "F",
          "G",
          "F",
          "F",
          "F",
          "F",
          "G",
          "G",
          "G",
          "C",
          "SF",
          "G",
          "G",
          "F",
          "PF",
          "SF",
          "SG",
          "G",
          "G",
          "F",
          "C",
          "PG",
          "F",
          "C",
          "C",
          "C",
          "SG",
          "G",
          "F",
          "G",
          "G",
          "G",
          "G",
          "G",
          "F",
          "G",
          "F",
          "F",
          "G",
          "SG",
          "SG",
          "SG",
          "SG",
          "SG"
         ],
         "xaxis": "x",
         "yaxis": "y"
        }
       ],
       "layout": {
        "barmode": "relative",
        "legend": {
         "tracegroupgap": 0
        },
        "template": {
         "data": {
          "bar": [
           {
            "error_x": {
             "color": "#f2f5fa"
            },
            "error_y": {
             "color": "#f2f5fa"
            },
            "marker": {
             "line": {
              "color": "rgb(17,17,17)",
              "width": 0.5
             },
             "pattern": {
              "fillmode": "overlay",
              "size": 10,
              "solidity": 0.2
             }
            },
            "type": "bar"
           }
          ],
          "barpolar": [
           {
            "marker": {
             "line": {
              "color": "rgb(17,17,17)",
              "width": 0.5
             },
             "pattern": {
              "fillmode": "overlay",
              "size": 10,
              "solidity": 0.2
             }
            },
            "type": "barpolar"
           }
          ],
          "carpet": [
           {
            "aaxis": {
             "endlinecolor": "#A2B1C6",
             "gridcolor": "#506784",
             "linecolor": "#506784",
             "minorgridcolor": "#506784",
             "startlinecolor": "#A2B1C6"
            },
            "baxis": {
             "endlinecolor": "#A2B1C6",
             "gridcolor": "#506784",
             "linecolor": "#506784",
             "minorgridcolor": "#506784",
             "startlinecolor": "#A2B1C6"
            },
            "type": "carpet"
           }
          ],
          "choropleth": [
           {
            "colorbar": {
             "outlinewidth": 0,
             "ticks": ""
            },
            "type": "choropleth"
           }
          ],
          "contour": [
           {
            "colorbar": {
             "outlinewidth": 0,
             "ticks": ""
            },
            "colorscale": [
             [
              0,
              "#0d0887"
             ],
             [
              0.1111111111111111,
              "#46039f"
             ],
             [
              0.2222222222222222,
              "#7201a8"
             ],
             [
              0.3333333333333333,
              "#9c179e"
             ],
             [
              0.4444444444444444,
              "#bd3786"
             ],
             [
              0.5555555555555556,
              "#d8576b"
             ],
             [
              0.6666666666666666,
              "#ed7953"
             ],
             [
              0.7777777777777778,
              "#fb9f3a"
             ],
             [
              0.8888888888888888,
              "#fdca26"
             ],
             [
              1,
              "#f0f921"
             ]
            ],
            "type": "contour"
           }
          ],
          "contourcarpet": [
           {
            "colorbar": {
             "outlinewidth": 0,
             "ticks": ""
            },
            "type": "contourcarpet"
           }
          ],
          "heatmap": [
           {
            "colorbar": {
             "outlinewidth": 0,
             "ticks": ""
            },
            "colorscale": [
             [
              0,
              "#0d0887"
             ],
             [
              0.1111111111111111,
              "#46039f"
             ],
             [
              0.2222222222222222,
              "#7201a8"
             ],
             [
              0.3333333333333333,
              "#9c179e"
             ],
             [
              0.4444444444444444,
              "#bd3786"
             ],
             [
              0.5555555555555556,
              "#d8576b"
             ],
             [
              0.6666666666666666,
              "#ed7953"
             ],
             [
              0.7777777777777778,
              "#fb9f3a"
             ],
             [
              0.8888888888888888,
              "#fdca26"
             ],
             [
              1,
              "#f0f921"
             ]
            ],
            "type": "heatmap"
           }
          ],
          "heatmapgl": [
           {
            "colorbar": {
             "outlinewidth": 0,
             "ticks": ""
            },
            "colorscale": [
             [
              0,
              "#0d0887"
             ],
             [
              0.1111111111111111,
              "#46039f"
             ],
             [
              0.2222222222222222,
              "#7201a8"
             ],
             [
              0.3333333333333333,
              "#9c179e"
             ],
             [
              0.4444444444444444,
              "#bd3786"
             ],
             [
              0.5555555555555556,
              "#d8576b"
             ],
             [
              0.6666666666666666,
              "#ed7953"
             ],
             [
              0.7777777777777778,
              "#fb9f3a"
             ],
             [
              0.8888888888888888,
              "#fdca26"
             ],
             [
              1,
              "#f0f921"
             ]
            ],
            "type": "heatmapgl"
           }
          ],
          "histogram": [
           {
            "marker": {
             "pattern": {
              "fillmode": "overlay",
              "size": 10,
              "solidity": 0.2
             }
            },
            "type": "histogram"
           }
          ],
          "histogram2d": [
           {
            "colorbar": {
             "outlinewidth": 0,
             "ticks": ""
            },
            "colorscale": [
             [
              0,
              "#0d0887"
             ],
             [
              0.1111111111111111,
              "#46039f"
             ],
             [
              0.2222222222222222,
              "#7201a8"
             ],
             [
              0.3333333333333333,
              "#9c179e"
             ],
             [
              0.4444444444444444,
              "#bd3786"
             ],
             [
              0.5555555555555556,
              "#d8576b"
             ],
             [
              0.6666666666666666,
              "#ed7953"
             ],
             [
              0.7777777777777778,
              "#fb9f3a"
             ],
             [
              0.8888888888888888,
              "#fdca26"
             ],
             [
              1,
              "#f0f921"
             ]
            ],
            "type": "histogram2d"
           }
          ],
          "histogram2dcontour": [
           {
            "colorbar": {
             "outlinewidth": 0,
             "ticks": ""
            },
            "colorscale": [
             [
              0,
              "#0d0887"
             ],
             [
              0.1111111111111111,
              "#46039f"
             ],
             [
              0.2222222222222222,
              "#7201a8"
             ],
             [
              0.3333333333333333,
              "#9c179e"
             ],
             [
              0.4444444444444444,
              "#bd3786"
             ],
             [
              0.5555555555555556,
              "#d8576b"
             ],
             [
              0.6666666666666666,
              "#ed7953"
             ],
             [
              0.7777777777777778,
              "#fb9f3a"
             ],
             [
              0.8888888888888888,
              "#fdca26"
             ],
             [
              1,
              "#f0f921"
             ]
            ],
            "type": "histogram2dcontour"
           }
          ],
          "mesh3d": [
           {
            "colorbar": {
             "outlinewidth": 0,
             "ticks": ""
            },
            "type": "mesh3d"
           }
          ],
          "parcoords": [
           {
            "line": {
             "colorbar": {
              "outlinewidth": 0,
              "ticks": ""
             }
            },
            "type": "parcoords"
           }
          ],
          "pie": [
           {
            "automargin": true,
            "type": "pie"
           }
          ],
          "scatter": [
           {
            "marker": {
             "line": {
              "color": "#283442"
             }
            },
            "type": "scatter"
           }
          ],
          "scatter3d": [
           {
            "line": {
             "colorbar": {
              "outlinewidth": 0,
              "ticks": ""
             }
            },
            "marker": {
             "colorbar": {
              "outlinewidth": 0,
              "ticks": ""
             }
            },
            "type": "scatter3d"
           }
          ],
          "scattercarpet": [
           {
            "marker": {
             "colorbar": {
              "outlinewidth": 0,
              "ticks": ""
             }
            },
            "type": "scattercarpet"
           }
          ],
          "scattergeo": [
           {
            "marker": {
             "colorbar": {
              "outlinewidth": 0,
              "ticks": ""
             }
            },
            "type": "scattergeo"
           }
          ],
          "scattergl": [
           {
            "marker": {
             "line": {
              "color": "#283442"
             }
            },
            "type": "scattergl"
           }
          ],
          "scattermapbox": [
           {
            "marker": {
             "colorbar": {
              "outlinewidth": 0,
              "ticks": ""
             }
            },
            "type": "scattermapbox"
           }
          ],
          "scatterpolar": [
           {
            "marker": {
             "colorbar": {
              "outlinewidth": 0,
              "ticks": ""
             }
            },
            "type": "scatterpolar"
           }
          ],
          "scatterpolargl": [
           {
            "marker": {
             "colorbar": {
              "outlinewidth": 0,
              "ticks": ""
             }
            },
            "type": "scatterpolargl"
           }
          ],
          "scatterternary": [
           {
            "marker": {
             "colorbar": {
              "outlinewidth": 0,
              "ticks": ""
             }
            },
            "type": "scatterternary"
           }
          ],
          "surface": [
           {
            "colorbar": {
             "outlinewidth": 0,
             "ticks": ""
            },
            "colorscale": [
             [
              0,
              "#0d0887"
             ],
             [
              0.1111111111111111,
              "#46039f"
             ],
             [
              0.2222222222222222,
              "#7201a8"
             ],
             [
              0.3333333333333333,
              "#9c179e"
             ],
             [
              0.4444444444444444,
              "#bd3786"
             ],
             [
              0.5555555555555556,
              "#d8576b"
             ],
             [
              0.6666666666666666,
              "#ed7953"
             ],
             [
              0.7777777777777778,
              "#fb9f3a"
             ],
             [
              0.8888888888888888,
              "#fdca26"
             ],
             [
              1,
              "#f0f921"
             ]
            ],
            "type": "surface"
           }
          ],
          "table": [
           {
            "cells": {
             "fill": {
              "color": "#506784"
             },
             "line": {
              "color": "rgb(17,17,17)"
             }
            },
            "header": {
             "fill": {
              "color": "#2a3f5f"
             },
             "line": {
              "color": "rgb(17,17,17)"
             }
            },
            "type": "table"
           }
          ]
         },
         "layout": {
          "annotationdefaults": {
           "arrowcolor": "#f2f5fa",
           "arrowhead": 0,
           "arrowwidth": 1
          },
          "autotypenumbers": "strict",
          "coloraxis": {
           "colorbar": {
            "outlinewidth": 0,
            "ticks": ""
           }
          },
          "colorscale": {
           "diverging": [
            [
             0,
             "#8e0152"
            ],
            [
             0.1,
             "#c51b7d"
            ],
            [
             0.2,
             "#de77ae"
            ],
            [
             0.3,
             "#f1b6da"
            ],
            [
             0.4,
             "#fde0ef"
            ],
            [
             0.5,
             "#f7f7f7"
            ],
            [
             0.6,
             "#e6f5d0"
            ],
            [
             0.7,
             "#b8e186"
            ],
            [
             0.8,
             "#7fbc41"
            ],
            [
             0.9,
             "#4d9221"
            ],
            [
             1,
             "#276419"
            ]
           ],
           "sequential": [
            [
             0,
             "#0d0887"
            ],
            [
             0.1111111111111111,
             "#46039f"
            ],
            [
             0.2222222222222222,
             "#7201a8"
            ],
            [
             0.3333333333333333,
             "#9c179e"
            ],
            [
             0.4444444444444444,
             "#bd3786"
            ],
            [
             0.5555555555555556,
             "#d8576b"
            ],
            [
             0.6666666666666666,
             "#ed7953"
            ],
            [
             0.7777777777777778,
             "#fb9f3a"
            ],
            [
             0.8888888888888888,
             "#fdca26"
            ],
            [
             1,
             "#f0f921"
            ]
           ],
           "sequentialminus": [
            [
             0,
             "#0d0887"
            ],
            [
             0.1111111111111111,
             "#46039f"
            ],
            [
             0.2222222222222222,
             "#7201a8"
            ],
            [
             0.3333333333333333,
             "#9c179e"
            ],
            [
             0.4444444444444444,
             "#bd3786"
            ],
            [
             0.5555555555555556,
             "#d8576b"
            ],
            [
             0.6666666666666666,
             "#ed7953"
            ],
            [
             0.7777777777777778,
             "#fb9f3a"
            ],
            [
             0.8888888888888888,
             "#fdca26"
            ],
            [
             1,
             "#f0f921"
            ]
           ]
          },
          "colorway": [
           "#636efa",
           "#EF553B",
           "#00cc96",
           "#ab63fa",
           "#FFA15A",
           "#19d3f3",
           "#FF6692",
           "#B6E880",
           "#FF97FF",
           "#FECB52"
          ],
          "font": {
           "color": "#f2f5fa"
          },
          "geo": {
           "bgcolor": "rgb(17,17,17)",
           "lakecolor": "rgb(17,17,17)",
           "landcolor": "rgb(17,17,17)",
           "showlakes": true,
           "showland": true,
           "subunitcolor": "#506784"
          },
          "hoverlabel": {
           "align": "left"
          },
          "hovermode": "closest",
          "mapbox": {
           "style": "dark"
          },
          "paper_bgcolor": "rgb(17,17,17)",
          "plot_bgcolor": "rgb(17,17,17)",
          "polar": {
           "angularaxis": {
            "gridcolor": "#506784",
            "linecolor": "#506784",
            "ticks": ""
           },
           "bgcolor": "rgb(17,17,17)",
           "radialaxis": {
            "gridcolor": "#506784",
            "linecolor": "#506784",
            "ticks": ""
           }
          },
          "scene": {
           "xaxis": {
            "backgroundcolor": "rgb(17,17,17)",
            "gridcolor": "#506784",
            "gridwidth": 2,
            "linecolor": "#506784",
            "showbackground": true,
            "ticks": "",
            "zerolinecolor": "#C8D4E3"
           },
           "yaxis": {
            "backgroundcolor": "rgb(17,17,17)",
            "gridcolor": "#506784",
            "gridwidth": 2,
            "linecolor": "#506784",
            "showbackground": true,
            "ticks": "",
            "zerolinecolor": "#C8D4E3"
           },
           "zaxis": {
            "backgroundcolor": "rgb(17,17,17)",
            "gridcolor": "#506784",
            "gridwidth": 2,
            "linecolor": "#506784",
            "showbackground": true,
            "ticks": "",
            "zerolinecolor": "#C8D4E3"
           }
          },
          "shapedefaults": {
           "line": {
            "color": "#f2f5fa"
           }
          },
          "sliderdefaults": {
           "bgcolor": "#C8D4E3",
           "bordercolor": "rgb(17,17,17)",
           "borderwidth": 1,
           "tickwidth": 0
          },
          "ternary": {
           "aaxis": {
            "gridcolor": "#506784",
            "linecolor": "#506784",
            "ticks": ""
           },
           "baxis": {
            "gridcolor": "#506784",
            "linecolor": "#506784",
            "ticks": ""
           },
           "bgcolor": "rgb(17,17,17)",
           "caxis": {
            "gridcolor": "#506784",
            "linecolor": "#506784",
            "ticks": ""
           }
          },
          "title": {
           "x": 0.05
          },
          "updatemenudefaults": {
           "bgcolor": "#506784",
           "borderwidth": 0
          },
          "xaxis": {
           "automargin": true,
           "gridcolor": "#283442",
           "linecolor": "#506784",
           "ticks": "",
           "title": {
            "standoff": 15
           },
           "zerolinecolor": "#283442",
           "zerolinewidth": 2
          },
          "yaxis": {
           "automargin": true,
           "gridcolor": "#283442",
           "linecolor": "#506784",
           "ticks": "",
           "title": {
            "standoff": 15
           },
           "zerolinecolor": "#283442",
           "zerolinewidth": 2
          }
         }
        },
        "title": {
         "text": "Players position value counts"
        },
        "xaxis": {
         "anchor": "y",
         "domain": [
          0,
          1
         ],
         "title": {
          "text": "POS"
         }
        },
        "yaxis": {
         "anchor": "x",
         "domain": [
          0,
          1
         ],
         "title": {
          "text": "count"
         }
        }
       }
      }
     },
     "metadata": {},
     "output_type": "display_data"
    }
   ],
   "source": [
    "px.histogram(\n",
    "    df,\n",
    "    x=\"POS\",\n",
    "    color_discrete_sequence=px.colors.qualitative.Vivid,\n",
    "    title=\"Players position value counts\",\n",
    "    template=\"plotly_dark\",\n",
    ")"
   ]
  },
  {
   "cell_type": "code",
   "execution_count": 11,
   "metadata": {},
   "outputs": [
    {
     "data": {
      "application/vnd.plotly.v1+json": {
       "config": {
        "plotlyServerURL": "https://plot.ly"
       },
       "data": [
        {
         "marker": {
          "color": [
           "orangered",
           "white",
           "grey",
           "orangered",
           "white",
           "grey",
           "orangered"
          ]
         },
         "type": "bar",
         "x": [
          "C",
          "F",
          "G",
          "PF",
          "PG",
          "SF",
          "SG"
         ],
         "y": [
          482.7564102564103,
          245,
          153.8181818181818,
          596.7972972972973,
          730.7922077922078,
          653.8441558441558,
          667.0297029702971
         ]
        }
       ],
       "layout": {
        "template": {
         "data": {
          "bar": [
           {
            "error_x": {
             "color": "#f2f5fa"
            },
            "error_y": {
             "color": "#f2f5fa"
            },
            "marker": {
             "line": {
              "color": "rgb(17,17,17)",
              "width": 0.5
             },
             "pattern": {
              "fillmode": "overlay",
              "size": 10,
              "solidity": 0.2
             }
            },
            "type": "bar"
           }
          ],
          "barpolar": [
           {
            "marker": {
             "line": {
              "color": "rgb(17,17,17)",
              "width": 0.5
             },
             "pattern": {
              "fillmode": "overlay",
              "size": 10,
              "solidity": 0.2
             }
            },
            "type": "barpolar"
           }
          ],
          "carpet": [
           {
            "aaxis": {
             "endlinecolor": "#A2B1C6",
             "gridcolor": "#506784",
             "linecolor": "#506784",
             "minorgridcolor": "#506784",
             "startlinecolor": "#A2B1C6"
            },
            "baxis": {
             "endlinecolor": "#A2B1C6",
             "gridcolor": "#506784",
             "linecolor": "#506784",
             "minorgridcolor": "#506784",
             "startlinecolor": "#A2B1C6"
            },
            "type": "carpet"
           }
          ],
          "choropleth": [
           {
            "colorbar": {
             "outlinewidth": 0,
             "ticks": ""
            },
            "type": "choropleth"
           }
          ],
          "contour": [
           {
            "colorbar": {
             "outlinewidth": 0,
             "ticks": ""
            },
            "colorscale": [
             [
              0,
              "#0d0887"
             ],
             [
              0.1111111111111111,
              "#46039f"
             ],
             [
              0.2222222222222222,
              "#7201a8"
             ],
             [
              0.3333333333333333,
              "#9c179e"
             ],
             [
              0.4444444444444444,
              "#bd3786"
             ],
             [
              0.5555555555555556,
              "#d8576b"
             ],
             [
              0.6666666666666666,
              "#ed7953"
             ],
             [
              0.7777777777777778,
              "#fb9f3a"
             ],
             [
              0.8888888888888888,
              "#fdca26"
             ],
             [
              1,
              "#f0f921"
             ]
            ],
            "type": "contour"
           }
          ],
          "contourcarpet": [
           {
            "colorbar": {
             "outlinewidth": 0,
             "ticks": ""
            },
            "type": "contourcarpet"
           }
          ],
          "heatmap": [
           {
            "colorbar": {
             "outlinewidth": 0,
             "ticks": ""
            },
            "colorscale": [
             [
              0,
              "#0d0887"
             ],
             [
              0.1111111111111111,
              "#46039f"
             ],
             [
              0.2222222222222222,
              "#7201a8"
             ],
             [
              0.3333333333333333,
              "#9c179e"
             ],
             [
              0.4444444444444444,
              "#bd3786"
             ],
             [
              0.5555555555555556,
              "#d8576b"
             ],
             [
              0.6666666666666666,
              "#ed7953"
             ],
             [
              0.7777777777777778,
              "#fb9f3a"
             ],
             [
              0.8888888888888888,
              "#fdca26"
             ],
             [
              1,
              "#f0f921"
             ]
            ],
            "type": "heatmap"
           }
          ],
          "heatmapgl": [
           {
            "colorbar": {
             "outlinewidth": 0,
             "ticks": ""
            },
            "colorscale": [
             [
              0,
              "#0d0887"
             ],
             [
              0.1111111111111111,
              "#46039f"
             ],
             [
              0.2222222222222222,
              "#7201a8"
             ],
             [
              0.3333333333333333,
              "#9c179e"
             ],
             [
              0.4444444444444444,
              "#bd3786"
             ],
             [
              0.5555555555555556,
              "#d8576b"
             ],
             [
              0.6666666666666666,
              "#ed7953"
             ],
             [
              0.7777777777777778,
              "#fb9f3a"
             ],
             [
              0.8888888888888888,
              "#fdca26"
             ],
             [
              1,
              "#f0f921"
             ]
            ],
            "type": "heatmapgl"
           }
          ],
          "histogram": [
           {
            "marker": {
             "pattern": {
              "fillmode": "overlay",
              "size": 10,
              "solidity": 0.2
             }
            },
            "type": "histogram"
           }
          ],
          "histogram2d": [
           {
            "colorbar": {
             "outlinewidth": 0,
             "ticks": ""
            },
            "colorscale": [
             [
              0,
              "#0d0887"
             ],
             [
              0.1111111111111111,
              "#46039f"
             ],
             [
              0.2222222222222222,
              "#7201a8"
             ],
             [
              0.3333333333333333,
              "#9c179e"
             ],
             [
              0.4444444444444444,
              "#bd3786"
             ],
             [
              0.5555555555555556,
              "#d8576b"
             ],
             [
              0.6666666666666666,
              "#ed7953"
             ],
             [
              0.7777777777777778,
              "#fb9f3a"
             ],
             [
              0.8888888888888888,
              "#fdca26"
             ],
             [
              1,
              "#f0f921"
             ]
            ],
            "type": "histogram2d"
           }
          ],
          "histogram2dcontour": [
           {
            "colorbar": {
             "outlinewidth": 0,
             "ticks": ""
            },
            "colorscale": [
             [
              0,
              "#0d0887"
             ],
             [
              0.1111111111111111,
              "#46039f"
             ],
             [
              0.2222222222222222,
              "#7201a8"
             ],
             [
              0.3333333333333333,
              "#9c179e"
             ],
             [
              0.4444444444444444,
              "#bd3786"
             ],
             [
              0.5555555555555556,
              "#d8576b"
             ],
             [
              0.6666666666666666,
              "#ed7953"
             ],
             [
              0.7777777777777778,
              "#fb9f3a"
             ],
             [
              0.8888888888888888,
              "#fdca26"
             ],
             [
              1,
              "#f0f921"
             ]
            ],
            "type": "histogram2dcontour"
           }
          ],
          "mesh3d": [
           {
            "colorbar": {
             "outlinewidth": 0,
             "ticks": ""
            },
            "type": "mesh3d"
           }
          ],
          "parcoords": [
           {
            "line": {
             "colorbar": {
              "outlinewidth": 0,
              "ticks": ""
             }
            },
            "type": "parcoords"
           }
          ],
          "pie": [
           {
            "automargin": true,
            "type": "pie"
           }
          ],
          "scatter": [
           {
            "marker": {
             "line": {
              "color": "#283442"
             }
            },
            "type": "scatter"
           }
          ],
          "scatter3d": [
           {
            "line": {
             "colorbar": {
              "outlinewidth": 0,
              "ticks": ""
             }
            },
            "marker": {
             "colorbar": {
              "outlinewidth": 0,
              "ticks": ""
             }
            },
            "type": "scatter3d"
           }
          ],
          "scattercarpet": [
           {
            "marker": {
             "colorbar": {
              "outlinewidth": 0,
              "ticks": ""
             }
            },
            "type": "scattercarpet"
           }
          ],
          "scattergeo": [
           {
            "marker": {
             "colorbar": {
              "outlinewidth": 0,
              "ticks": ""
             }
            },
            "type": "scattergeo"
           }
          ],
          "scattergl": [
           {
            "marker": {
             "line": {
              "color": "#283442"
             }
            },
            "type": "scattergl"
           }
          ],
          "scattermapbox": [
           {
            "marker": {
             "colorbar": {
              "outlinewidth": 0,
              "ticks": ""
             }
            },
            "type": "scattermapbox"
           }
          ],
          "scatterpolar": [
           {
            "marker": {
             "colorbar": {
              "outlinewidth": 0,
              "ticks": ""
             }
            },
            "type": "scatterpolar"
           }
          ],
          "scatterpolargl": [
           {
            "marker": {
             "colorbar": {
              "outlinewidth": 0,
              "ticks": ""
             }
            },
            "type": "scatterpolargl"
           }
          ],
          "scatterternary": [
           {
            "marker": {
             "colorbar": {
              "outlinewidth": 0,
              "ticks": ""
             }
            },
            "type": "scatterternary"
           }
          ],
          "surface": [
           {
            "colorbar": {
             "outlinewidth": 0,
             "ticks": ""
            },
            "colorscale": [
             [
              0,
              "#0d0887"
             ],
             [
              0.1111111111111111,
              "#46039f"
             ],
             [
              0.2222222222222222,
              "#7201a8"
             ],
             [
              0.3333333333333333,
              "#9c179e"
             ],
             [
              0.4444444444444444,
              "#bd3786"
             ],
             [
              0.5555555555555556,
              "#d8576b"
             ],
             [
              0.6666666666666666,
              "#ed7953"
             ],
             [
              0.7777777777777778,
              "#fb9f3a"
             ],
             [
              0.8888888888888888,
              "#fdca26"
             ],
             [
              1,
              "#f0f921"
             ]
            ],
            "type": "surface"
           }
          ],
          "table": [
           {
            "cells": {
             "fill": {
              "color": "#506784"
             },
             "line": {
              "color": "rgb(17,17,17)"
             }
            },
            "header": {
             "fill": {
              "color": "#2a3f5f"
             },
             "line": {
              "color": "rgb(17,17,17)"
             }
            },
            "type": "table"
           }
          ]
         },
         "layout": {
          "annotationdefaults": {
           "arrowcolor": "#f2f5fa",
           "arrowhead": 0,
           "arrowwidth": 1
          },
          "autotypenumbers": "strict",
          "coloraxis": {
           "colorbar": {
            "outlinewidth": 0,
            "ticks": ""
           }
          },
          "colorscale": {
           "diverging": [
            [
             0,
             "#8e0152"
            ],
            [
             0.1,
             "#c51b7d"
            ],
            [
             0.2,
             "#de77ae"
            ],
            [
             0.3,
             "#f1b6da"
            ],
            [
             0.4,
             "#fde0ef"
            ],
            [
             0.5,
             "#f7f7f7"
            ],
            [
             0.6,
             "#e6f5d0"
            ],
            [
             0.7,
             "#b8e186"
            ],
            [
             0.8,
             "#7fbc41"
            ],
            [
             0.9,
             "#4d9221"
            ],
            [
             1,
             "#276419"
            ]
           ],
           "sequential": [
            [
             0,
             "#0d0887"
            ],
            [
             0.1111111111111111,
             "#46039f"
            ],
            [
             0.2222222222222222,
             "#7201a8"
            ],
            [
             0.3333333333333333,
             "#9c179e"
            ],
            [
             0.4444444444444444,
             "#bd3786"
            ],
            [
             0.5555555555555556,
             "#d8576b"
            ],
            [
             0.6666666666666666,
             "#ed7953"
            ],
            [
             0.7777777777777778,
             "#fb9f3a"
            ],
            [
             0.8888888888888888,
             "#fdca26"
            ],
            [
             1,
             "#f0f921"
            ]
           ],
           "sequentialminus": [
            [
             0,
             "#0d0887"
            ],
            [
             0.1111111111111111,
             "#46039f"
            ],
            [
             0.2222222222222222,
             "#7201a8"
            ],
            [
             0.3333333333333333,
             "#9c179e"
            ],
            [
             0.4444444444444444,
             "#bd3786"
            ],
            [
             0.5555555555555556,
             "#d8576b"
            ],
            [
             0.6666666666666666,
             "#ed7953"
            ],
            [
             0.7777777777777778,
             "#fb9f3a"
            ],
            [
             0.8888888888888888,
             "#fdca26"
            ],
            [
             1,
             "#f0f921"
            ]
           ]
          },
          "colorway": [
           "#636efa",
           "#EF553B",
           "#00cc96",
           "#ab63fa",
           "#FFA15A",
           "#19d3f3",
           "#FF6692",
           "#B6E880",
           "#FF97FF",
           "#FECB52"
          ],
          "font": {
           "color": "#f2f5fa"
          },
          "geo": {
           "bgcolor": "rgb(17,17,17)",
           "lakecolor": "rgb(17,17,17)",
           "landcolor": "rgb(17,17,17)",
           "showlakes": true,
           "showland": true,
           "subunitcolor": "#506784"
          },
          "hoverlabel": {
           "align": "left"
          },
          "hovermode": "closest",
          "mapbox": {
           "style": "dark"
          },
          "paper_bgcolor": "rgb(17,17,17)",
          "plot_bgcolor": "rgb(17,17,17)",
          "polar": {
           "angularaxis": {
            "gridcolor": "#506784",
            "linecolor": "#506784",
            "ticks": ""
           },
           "bgcolor": "rgb(17,17,17)",
           "radialaxis": {
            "gridcolor": "#506784",
            "linecolor": "#506784",
            "ticks": ""
           }
          },
          "scene": {
           "xaxis": {
            "backgroundcolor": "rgb(17,17,17)",
            "gridcolor": "#506784",
            "gridwidth": 2,
            "linecolor": "#506784",
            "showbackground": true,
            "ticks": "",
            "zerolinecolor": "#C8D4E3"
           },
           "yaxis": {
            "backgroundcolor": "rgb(17,17,17)",
            "gridcolor": "#506784",
            "gridwidth": 2,
            "linecolor": "#506784",
            "showbackground": true,
            "ticks": "",
            "zerolinecolor": "#C8D4E3"
           },
           "zaxis": {
            "backgroundcolor": "rgb(17,17,17)",
            "gridcolor": "#506784",
            "gridwidth": 2,
            "linecolor": "#506784",
            "showbackground": true,
            "ticks": "",
            "zerolinecolor": "#C8D4E3"
           }
          },
          "shapedefaults": {
           "line": {
            "color": "#f2f5fa"
           }
          },
          "sliderdefaults": {
           "bgcolor": "#C8D4E3",
           "bordercolor": "rgb(17,17,17)",
           "borderwidth": 1,
           "tickwidth": 0
          },
          "ternary": {
           "aaxis": {
            "gridcolor": "#506784",
            "linecolor": "#506784",
            "ticks": ""
           },
           "baxis": {
            "gridcolor": "#506784",
            "linecolor": "#506784",
            "ticks": ""
           },
           "bgcolor": "rgb(17,17,17)",
           "caxis": {
            "gridcolor": "#506784",
            "linecolor": "#506784",
            "ticks": ""
           }
          },
          "title": {
           "x": 0.05
          },
          "updatemenudefaults": {
           "bgcolor": "#506784",
           "borderwidth": 0
          },
          "xaxis": {
           "automargin": true,
           "gridcolor": "#283442",
           "linecolor": "#506784",
           "ticks": "",
           "title": {
            "standoff": 15
           },
           "zerolinecolor": "#283442",
           "zerolinewidth": 2
          },
          "yaxis": {
           "automargin": true,
           "gridcolor": "#283442",
           "linecolor": "#506784",
           "ticks": "",
           "title": {
            "standoff": 15
           },
           "zerolinecolor": "#283442",
           "zerolinewidth": 2
          }
         }
        },
        "title": {
         "text": "Points per Position"
        },
        "xaxis": {
         "title": {
          "text": "Position"
         }
        },
        "yaxis": {
         "title": {
          "text": "Average Total Points"
         }
        }
       }
      }
     },
     "metadata": {},
     "output_type": "display_data"
    }
   ],
   "source": [
    "position_stats = df.groupby([\"POS\"]).agg({\"PTS\": \"mean\"}).reset_index()\n",
    "\n",
    "fig = go.Figure()\n",
    "\n",
    "fig.add_trace(\n",
    "    go.Bar(\n",
    "        x=position_stats[\"POS\"],\n",
    "        y=position_stats[\"PTS\"],\n",
    "        marker=dict(\n",
    "            color=[\n",
    "                \"orangered\",\n",
    "                \"white\",\n",
    "                \"grey\",\n",
    "                \"orangered\",\n",
    "                \"white\",\n",
    "                \"grey\",\n",
    "                \"orangered\",\n",
    "            ]\n",
    "        ),\n",
    "    )\n",
    ")\n",
    "\n",
    "fig.update_layout(\n",
    "    title=\"Points per Position\",\n",
    "    xaxis_title=\"Position\",\n",
    "    yaxis_title=\"Average Total Points\",\n",
    "    template=\"plotly_dark\",\n",
    ")\n",
    "\n",
    "fig.show()"
   ]
  },
  {
   "cell_type": "code",
   "execution_count": 12,
   "metadata": {},
   "outputs": [
    {
     "data": {
      "application/vnd.plotly.v1+json": {
       "config": {
        "plotlyServerURL": "https://plot.ly"
       },
       "data": [
        {
         "marker": {
          "color": "orangered"
         },
         "type": "histogram",
         "x": [
          25,
          29,
          24,
          24,
          28,
          21,
          28,
          26,
          24,
          28,
          32,
          25,
          33,
          26,
          29,
          25,
          28,
          21,
          23,
          26,
          35,
          26,
          31,
          23,
          38,
          31,
          25,
          26,
          26,
          33,
          27,
          23,
          21,
          26,
          33,
          30,
          32,
          20,
          22,
          23,
          30,
          34,
          27,
          23,
          30,
          29,
          33,
          29,
          23,
          20,
          26,
          29,
          32,
          21,
          34,
          30,
          27,
          20,
          24,
          35,
          31,
          30,
          22,
          33,
          23,
          21,
          24,
          21,
          23,
          29,
          23,
          34,
          24,
          22,
          24,
          24,
          22,
          25,
          30,
          27,
          27,
          25,
          27,
          20,
          30,
          24,
          24,
          22,
          27,
          25,
          22,
          25,
          26,
          29,
          31,
          28,
          24,
          19,
          30,
          28,
          22,
          27,
          25,
          24,
          22,
          30,
          25,
          26,
          27,
          28,
          27,
          23,
          24,
          33,
          34,
          32,
          21,
          24,
          24,
          21,
          29,
          30,
          26,
          24,
          37,
          26,
          22,
          35,
          22,
          19,
          21,
          22,
          23,
          24,
          28,
          21,
          30,
          25,
          22,
          27,
          28,
          23,
          33,
          25,
          33,
          23,
          26,
          30,
          23,
          25,
          24,
          23,
          22,
          29,
          25,
          22,
          22,
          22,
          28,
          33,
          23,
          23,
          24,
          27,
          21,
          26,
          19,
          29,
          28,
          20,
          22,
          31,
          29,
          24,
          31,
          27,
          27,
          31,
          24,
          27,
          29,
          23,
          26,
          24,
          19,
          29,
          26,
          27,
          23,
          28,
          24,
          33,
          36,
          37,
          19,
          19,
          21,
          30,
          27,
          26,
          32,
          25,
          27,
          21,
          31,
          27,
          32,
          32,
          26,
          29,
          25,
          22,
          26,
          24,
          23,
          28,
          25,
          24,
          21,
          24,
          32,
          26,
          22,
          25,
          34,
          23,
          31,
          24,
          31,
          25,
          27,
          28,
          29,
          22,
          24,
          34,
          25,
          23,
          22,
          30,
          22,
          27,
          21,
          24,
          22,
          30,
          30,
          36,
          25,
          25,
          24,
          31,
          28,
          20,
          25,
          23,
          34,
          24,
          24,
          29,
          24,
          28,
          21,
          23,
          21,
          32,
          31,
          32,
          27,
          29,
          21,
          26,
          31,
          32,
          36,
          27,
          24,
          25,
          29,
          29,
          22,
          23,
          24,
          26,
          25,
          27,
          24,
          28,
          26,
          29,
          26,
          35,
          29,
          25,
          20,
          22,
          23,
          26,
          21,
          26,
          36,
          22,
          26,
          29,
          20,
          32,
          23,
          27,
          25,
          26,
          22,
          21,
          25,
          29,
          29,
          22,
          37,
          30,
          23,
          20,
          28,
          27,
          26,
          30,
          28,
          26,
          20,
          24,
          34,
          23,
          34,
          21,
          26,
          22,
          36,
          21,
          20,
          21,
          21,
          22,
          22,
          25,
          31,
          20,
          25,
          21,
          30,
          26,
          34,
          22,
          34,
          33,
          27,
          30,
          20,
          19,
          22,
          21,
          35,
          20,
          31,
          22,
          24,
          36,
          24,
          26,
          25,
          25,
          32,
          34,
          37,
          23,
          30,
          29,
          21,
          21,
          27,
          22,
          30,
          26,
          30,
          23,
          23,
          24,
          34,
          23,
          21,
          21,
          23,
          27,
          25,
          25,
          25,
          24,
          33,
          29,
          24,
          20,
          23,
          32,
          27,
          26,
          20,
          33,
          20,
          22,
          22,
          24,
          35,
          19,
          34,
          21,
          34,
          30,
          22,
          30,
          24,
          27,
          25,
          29,
          27,
          30,
          23,
          22,
          20,
          23,
          19,
          20,
          20,
          32,
          23,
          33,
          35,
          25,
          21,
          26,
          22,
          24,
          25,
          24,
          24,
          36,
          25,
          30,
          36,
          25,
          31,
          32,
          20,
          24,
          23,
          20,
          25,
          24,
          29,
          29,
          29,
          30,
          31,
          20,
          21,
          23,
          24,
          27,
          22,
          24,
          22,
          27,
          29,
          23,
          22,
          21,
          21,
          20,
          42,
          29,
          24,
          27,
          26,
          29,
          23,
          25,
          20,
          26,
          26,
          25,
          26,
          24,
          25,
          28,
          24,
          23,
          20,
          25,
          39,
          24,
          31,
          25,
          23,
          23,
          23,
          23,
          22,
          22,
          23,
          21,
          32,
          22,
          23,
          21,
          23,
          19,
          24,
          27,
          27,
          27,
          28,
          22,
          23,
          25,
          22,
          26,
          25,
          27,
          26,
          22,
          21,
          23,
          24,
          24,
          19,
          27,
          26,
          24,
          23,
          29,
          24,
          20,
          28
         ]
        }
       ],
       "layout": {
        "template": {
         "data": {
          "bar": [
           {
            "error_x": {
             "color": "#f2f5fa"
            },
            "error_y": {
             "color": "#f2f5fa"
            },
            "marker": {
             "line": {
              "color": "rgb(17,17,17)",
              "width": 0.5
             },
             "pattern": {
              "fillmode": "overlay",
              "size": 10,
              "solidity": 0.2
             }
            },
            "type": "bar"
           }
          ],
          "barpolar": [
           {
            "marker": {
             "line": {
              "color": "rgb(17,17,17)",
              "width": 0.5
             },
             "pattern": {
              "fillmode": "overlay",
              "size": 10,
              "solidity": 0.2
             }
            },
            "type": "barpolar"
           }
          ],
          "carpet": [
           {
            "aaxis": {
             "endlinecolor": "#A2B1C6",
             "gridcolor": "#506784",
             "linecolor": "#506784",
             "minorgridcolor": "#506784",
             "startlinecolor": "#A2B1C6"
            },
            "baxis": {
             "endlinecolor": "#A2B1C6",
             "gridcolor": "#506784",
             "linecolor": "#506784",
             "minorgridcolor": "#506784",
             "startlinecolor": "#A2B1C6"
            },
            "type": "carpet"
           }
          ],
          "choropleth": [
           {
            "colorbar": {
             "outlinewidth": 0,
             "ticks": ""
            },
            "type": "choropleth"
           }
          ],
          "contour": [
           {
            "colorbar": {
             "outlinewidth": 0,
             "ticks": ""
            },
            "colorscale": [
             [
              0,
              "#0d0887"
             ],
             [
              0.1111111111111111,
              "#46039f"
             ],
             [
              0.2222222222222222,
              "#7201a8"
             ],
             [
              0.3333333333333333,
              "#9c179e"
             ],
             [
              0.4444444444444444,
              "#bd3786"
             ],
             [
              0.5555555555555556,
              "#d8576b"
             ],
             [
              0.6666666666666666,
              "#ed7953"
             ],
             [
              0.7777777777777778,
              "#fb9f3a"
             ],
             [
              0.8888888888888888,
              "#fdca26"
             ],
             [
              1,
              "#f0f921"
             ]
            ],
            "type": "contour"
           }
          ],
          "contourcarpet": [
           {
            "colorbar": {
             "outlinewidth": 0,
             "ticks": ""
            },
            "type": "contourcarpet"
           }
          ],
          "heatmap": [
           {
            "colorbar": {
             "outlinewidth": 0,
             "ticks": ""
            },
            "colorscale": [
             [
              0,
              "#0d0887"
             ],
             [
              0.1111111111111111,
              "#46039f"
             ],
             [
              0.2222222222222222,
              "#7201a8"
             ],
             [
              0.3333333333333333,
              "#9c179e"
             ],
             [
              0.4444444444444444,
              "#bd3786"
             ],
             [
              0.5555555555555556,
              "#d8576b"
             ],
             [
              0.6666666666666666,
              "#ed7953"
             ],
             [
              0.7777777777777778,
              "#fb9f3a"
             ],
             [
              0.8888888888888888,
              "#fdca26"
             ],
             [
              1,
              "#f0f921"
             ]
            ],
            "type": "heatmap"
           }
          ],
          "heatmapgl": [
           {
            "colorbar": {
             "outlinewidth": 0,
             "ticks": ""
            },
            "colorscale": [
             [
              0,
              "#0d0887"
             ],
             [
              0.1111111111111111,
              "#46039f"
             ],
             [
              0.2222222222222222,
              "#7201a8"
             ],
             [
              0.3333333333333333,
              "#9c179e"
             ],
             [
              0.4444444444444444,
              "#bd3786"
             ],
             [
              0.5555555555555556,
              "#d8576b"
             ],
             [
              0.6666666666666666,
              "#ed7953"
             ],
             [
              0.7777777777777778,
              "#fb9f3a"
             ],
             [
              0.8888888888888888,
              "#fdca26"
             ],
             [
              1,
              "#f0f921"
             ]
            ],
            "type": "heatmapgl"
           }
          ],
          "histogram": [
           {
            "marker": {
             "pattern": {
              "fillmode": "overlay",
              "size": 10,
              "solidity": 0.2
             }
            },
            "type": "histogram"
           }
          ],
          "histogram2d": [
           {
            "colorbar": {
             "outlinewidth": 0,
             "ticks": ""
            },
            "colorscale": [
             [
              0,
              "#0d0887"
             ],
             [
              0.1111111111111111,
              "#46039f"
             ],
             [
              0.2222222222222222,
              "#7201a8"
             ],
             [
              0.3333333333333333,
              "#9c179e"
             ],
             [
              0.4444444444444444,
              "#bd3786"
             ],
             [
              0.5555555555555556,
              "#d8576b"
             ],
             [
              0.6666666666666666,
              "#ed7953"
             ],
             [
              0.7777777777777778,
              "#fb9f3a"
             ],
             [
              0.8888888888888888,
              "#fdca26"
             ],
             [
              1,
              "#f0f921"
             ]
            ],
            "type": "histogram2d"
           }
          ],
          "histogram2dcontour": [
           {
            "colorbar": {
             "outlinewidth": 0,
             "ticks": ""
            },
            "colorscale": [
             [
              0,
              "#0d0887"
             ],
             [
              0.1111111111111111,
              "#46039f"
             ],
             [
              0.2222222222222222,
              "#7201a8"
             ],
             [
              0.3333333333333333,
              "#9c179e"
             ],
             [
              0.4444444444444444,
              "#bd3786"
             ],
             [
              0.5555555555555556,
              "#d8576b"
             ],
             [
              0.6666666666666666,
              "#ed7953"
             ],
             [
              0.7777777777777778,
              "#fb9f3a"
             ],
             [
              0.8888888888888888,
              "#fdca26"
             ],
             [
              1,
              "#f0f921"
             ]
            ],
            "type": "histogram2dcontour"
           }
          ],
          "mesh3d": [
           {
            "colorbar": {
             "outlinewidth": 0,
             "ticks": ""
            },
            "type": "mesh3d"
           }
          ],
          "parcoords": [
           {
            "line": {
             "colorbar": {
              "outlinewidth": 0,
              "ticks": ""
             }
            },
            "type": "parcoords"
           }
          ],
          "pie": [
           {
            "automargin": true,
            "type": "pie"
           }
          ],
          "scatter": [
           {
            "marker": {
             "line": {
              "color": "#283442"
             }
            },
            "type": "scatter"
           }
          ],
          "scatter3d": [
           {
            "line": {
             "colorbar": {
              "outlinewidth": 0,
              "ticks": ""
             }
            },
            "marker": {
             "colorbar": {
              "outlinewidth": 0,
              "ticks": ""
             }
            },
            "type": "scatter3d"
           }
          ],
          "scattercarpet": [
           {
            "marker": {
             "colorbar": {
              "outlinewidth": 0,
              "ticks": ""
             }
            },
            "type": "scattercarpet"
           }
          ],
          "scattergeo": [
           {
            "marker": {
             "colorbar": {
              "outlinewidth": 0,
              "ticks": ""
             }
            },
            "type": "scattergeo"
           }
          ],
          "scattergl": [
           {
            "marker": {
             "line": {
              "color": "#283442"
             }
            },
            "type": "scattergl"
           }
          ],
          "scattermapbox": [
           {
            "marker": {
             "colorbar": {
              "outlinewidth": 0,
              "ticks": ""
             }
            },
            "type": "scattermapbox"
           }
          ],
          "scatterpolar": [
           {
            "marker": {
             "colorbar": {
              "outlinewidth": 0,
              "ticks": ""
             }
            },
            "type": "scatterpolar"
           }
          ],
          "scatterpolargl": [
           {
            "marker": {
             "colorbar": {
              "outlinewidth": 0,
              "ticks": ""
             }
            },
            "type": "scatterpolargl"
           }
          ],
          "scatterternary": [
           {
            "marker": {
             "colorbar": {
              "outlinewidth": 0,
              "ticks": ""
             }
            },
            "type": "scatterternary"
           }
          ],
          "surface": [
           {
            "colorbar": {
             "outlinewidth": 0,
             "ticks": ""
            },
            "colorscale": [
             [
              0,
              "#0d0887"
             ],
             [
              0.1111111111111111,
              "#46039f"
             ],
             [
              0.2222222222222222,
              "#7201a8"
             ],
             [
              0.3333333333333333,
              "#9c179e"
             ],
             [
              0.4444444444444444,
              "#bd3786"
             ],
             [
              0.5555555555555556,
              "#d8576b"
             ],
             [
              0.6666666666666666,
              "#ed7953"
             ],
             [
              0.7777777777777778,
              "#fb9f3a"
             ],
             [
              0.8888888888888888,
              "#fdca26"
             ],
             [
              1,
              "#f0f921"
             ]
            ],
            "type": "surface"
           }
          ],
          "table": [
           {
            "cells": {
             "fill": {
              "color": "#506784"
             },
             "line": {
              "color": "rgb(17,17,17)"
             }
            },
            "header": {
             "fill": {
              "color": "#2a3f5f"
             },
             "line": {
              "color": "rgb(17,17,17)"
             }
            },
            "type": "table"
           }
          ]
         },
         "layout": {
          "annotationdefaults": {
           "arrowcolor": "#f2f5fa",
           "arrowhead": 0,
           "arrowwidth": 1
          },
          "autotypenumbers": "strict",
          "coloraxis": {
           "colorbar": {
            "outlinewidth": 0,
            "ticks": ""
           }
          },
          "colorscale": {
           "diverging": [
            [
             0,
             "#8e0152"
            ],
            [
             0.1,
             "#c51b7d"
            ],
            [
             0.2,
             "#de77ae"
            ],
            [
             0.3,
             "#f1b6da"
            ],
            [
             0.4,
             "#fde0ef"
            ],
            [
             0.5,
             "#f7f7f7"
            ],
            [
             0.6,
             "#e6f5d0"
            ],
            [
             0.7,
             "#b8e186"
            ],
            [
             0.8,
             "#7fbc41"
            ],
            [
             0.9,
             "#4d9221"
            ],
            [
             1,
             "#276419"
            ]
           ],
           "sequential": [
            [
             0,
             "#0d0887"
            ],
            [
             0.1111111111111111,
             "#46039f"
            ],
            [
             0.2222222222222222,
             "#7201a8"
            ],
            [
             0.3333333333333333,
             "#9c179e"
            ],
            [
             0.4444444444444444,
             "#bd3786"
            ],
            [
             0.5555555555555556,
             "#d8576b"
            ],
            [
             0.6666666666666666,
             "#ed7953"
            ],
            [
             0.7777777777777778,
             "#fb9f3a"
            ],
            [
             0.8888888888888888,
             "#fdca26"
            ],
            [
             1,
             "#f0f921"
            ]
           ],
           "sequentialminus": [
            [
             0,
             "#0d0887"
            ],
            [
             0.1111111111111111,
             "#46039f"
            ],
            [
             0.2222222222222222,
             "#7201a8"
            ],
            [
             0.3333333333333333,
             "#9c179e"
            ],
            [
             0.4444444444444444,
             "#bd3786"
            ],
            [
             0.5555555555555556,
             "#d8576b"
            ],
            [
             0.6666666666666666,
             "#ed7953"
            ],
            [
             0.7777777777777778,
             "#fb9f3a"
            ],
            [
             0.8888888888888888,
             "#fdca26"
            ],
            [
             1,
             "#f0f921"
            ]
           ]
          },
          "colorway": [
           "#636efa",
           "#EF553B",
           "#00cc96",
           "#ab63fa",
           "#FFA15A",
           "#19d3f3",
           "#FF6692",
           "#B6E880",
           "#FF97FF",
           "#FECB52"
          ],
          "font": {
           "color": "#f2f5fa"
          },
          "geo": {
           "bgcolor": "rgb(17,17,17)",
           "lakecolor": "rgb(17,17,17)",
           "landcolor": "rgb(17,17,17)",
           "showlakes": true,
           "showland": true,
           "subunitcolor": "#506784"
          },
          "hoverlabel": {
           "align": "left"
          },
          "hovermode": "closest",
          "mapbox": {
           "style": "dark"
          },
          "paper_bgcolor": "rgb(17,17,17)",
          "plot_bgcolor": "rgb(17,17,17)",
          "polar": {
           "angularaxis": {
            "gridcolor": "#506784",
            "linecolor": "#506784",
            "ticks": ""
           },
           "bgcolor": "rgb(17,17,17)",
           "radialaxis": {
            "gridcolor": "#506784",
            "linecolor": "#506784",
            "ticks": ""
           }
          },
          "scene": {
           "xaxis": {
            "backgroundcolor": "rgb(17,17,17)",
            "gridcolor": "#506784",
            "gridwidth": 2,
            "linecolor": "#506784",
            "showbackground": true,
            "ticks": "",
            "zerolinecolor": "#C8D4E3"
           },
           "yaxis": {
            "backgroundcolor": "rgb(17,17,17)",
            "gridcolor": "#506784",
            "gridwidth": 2,
            "linecolor": "#506784",
            "showbackground": true,
            "ticks": "",
            "zerolinecolor": "#C8D4E3"
           },
           "zaxis": {
            "backgroundcolor": "rgb(17,17,17)",
            "gridcolor": "#506784",
            "gridwidth": 2,
            "linecolor": "#506784",
            "showbackground": true,
            "ticks": "",
            "zerolinecolor": "#C8D4E3"
           }
          },
          "shapedefaults": {
           "line": {
            "color": "#f2f5fa"
           }
          },
          "sliderdefaults": {
           "bgcolor": "#C8D4E3",
           "bordercolor": "rgb(17,17,17)",
           "borderwidth": 1,
           "tickwidth": 0
          },
          "ternary": {
           "aaxis": {
            "gridcolor": "#506784",
            "linecolor": "#506784",
            "ticks": ""
           },
           "baxis": {
            "gridcolor": "#506784",
            "linecolor": "#506784",
            "ticks": ""
           },
           "bgcolor": "rgb(17,17,17)",
           "caxis": {
            "gridcolor": "#506784",
            "linecolor": "#506784",
            "ticks": ""
           }
          },
          "title": {
           "x": 0.05
          },
          "updatemenudefaults": {
           "bgcolor": "#506784",
           "borderwidth": 0
          },
          "xaxis": {
           "automargin": true,
           "gridcolor": "#283442",
           "linecolor": "#506784",
           "ticks": "",
           "title": {
            "standoff": 15
           },
           "zerolinecolor": "#283442",
           "zerolinewidth": 2
          },
          "yaxis": {
           "automargin": true,
           "gridcolor": "#283442",
           "linecolor": "#506784",
           "ticks": "",
           "title": {
            "standoff": 15
           },
           "zerolinecolor": "#283442",
           "zerolinewidth": 2
          }
         }
        },
        "title": {
         "text": "Distribution of Player Ages"
        },
        "xaxis": {
         "title": {
          "text": "Age"
         }
        },
        "yaxis": {
         "title": {
          "text": "Count"
         }
        }
       }
      }
     },
     "metadata": {},
     "output_type": "display_data"
    }
   ],
   "source": [
    "fig_age_histogram = go.Figure()\n",
    "\n",
    "fig_age_histogram.add_trace(go.Histogram(x=df[\"Age\"], marker_color=\"orangered\"))\n",
    "\n",
    "fig_age_histogram.update_layout(\n",
    "    title=\"Distribution of Player Ages\",\n",
    "    xaxis_title=\"Age\",\n",
    "    yaxis_title=\"Count\",\n",
    "    template=\"plotly_dark\",\n",
    ")\n",
    "\n",
    "fig_age_histogram.show()"
   ]
  },
  {
   "cell_type": "code",
   "execution_count": 15,
   "metadata": {},
   "outputs": [
    {
     "data": {
      "application/vnd.plotly.v1+json": {
       "config": {
        "plotlyServerURL": "https://plot.ly"
       },
       "data": [
        {
         "hovertemplate": "POS=SF<br>Age=%{x}<br>PTS=%{y}<extra></extra>",
         "legendgroup": "SF",
         "marker": {
          "color": "#636efa",
          "symbol": "circle"
         },
         "mode": "markers",
         "name": "SF",
         "orientation": "v",
         "showlegend": true,
         "type": "scatter",
         "x": [
          25,
          33,
          26,
          38,
          21,
          33,
          23,
          27,
          29,
          34,
          31,
          30,
          21,
          25,
          25,
          24,
          24,
          27,
          25,
          31,
          22,
          26,
          24,
          23,
          33,
          33,
          25,
          22,
          27,
          28,
          31,
          27,
          24,
          27,
          29,
          29,
          28,
          32,
          31,
          32,
          24,
          23,
          24,
          25,
          31,
          22,
          21,
          28,
          23,
          24,
          21,
          23,
          23,
          28,
          26,
          29,
          26,
          36,
          23,
          27,
          29,
          30,
          34,
          26,
          29,
          26,
          30,
          22,
          30,
          36,
          24,
          29,
          27,
          28,
          24,
          21,
          23
         ],
         "xaxis": "x",
         "y": [
          2225,
          1816,
          1671,
          1590,
          1485,
          1466,
          1385,
          1357,
          1290,
          1273,
          1239,
          1230,
          1179,
          1124,
          1112,
          1080,
          1062,
          1047,
          1029,
          1019,
          976,
          923,
          820,
          738,
          733,
          728,
          698,
          697,
          683,
          669,
          654,
          650,
          649,
          647,
          647,
          637,
          633,
          588,
          562,
          561,
          542,
          541,
          529,
          512,
          497,
          490,
          455,
          425,
          415,
          398,
          395,
          387,
          359,
          322,
          319,
          314,
          297,
          293,
          287,
          283,
          268,
          206,
          205,
          174,
          165,
          155,
          155,
          100,
          51,
          50,
          46,
          44,
          35,
          20,
          20,
          11,
          9
         ],
         "yaxis": "y"
        },
        {
         "hovertemplate": "POS=C<br>Age=%{x}<br>PTS=%{y}<extra></extra>",
         "legendgroup": "C",
         "marker": {
          "color": "#EF553B",
          "symbol": "circle"
         },
         "mode": "markers",
         "name": "C",
         "orientation": "v",
         "showlegend": true,
         "type": "scatter",
         "x": [
          29,
          28,
          25,
          27,
          32,
          35,
          24,
          30,
          27,
          20,
          25,
          24,
          30,
          27,
          24,
          33,
          26,
          23,
          28,
          24,
          28,
          21,
          23,
          36,
          19,
          27,
          26,
          25,
          21,
          25,
          31,
          27,
          22,
          25,
          24,
          29,
          21,
          31,
          29,
          24,
          29,
          25,
          30,
          28,
          27,
          22,
          21,
          22,
          34,
          33,
          35,
          22,
          24,
          24,
          23,
          23,
          27,
          23,
          33,
          22,
          35,
          34,
          30,
          25,
          31,
          29,
          30,
          31,
          24,
          24,
          29,
          25,
          25,
          23,
          27,
          23,
          25,
          22
         ],
         "xaxis": "x",
         "y": [
          2183,
          1690,
          1529,
          1505,
          1447,
          1239,
          1203,
          1115,
          1113,
          1109,
          969,
          961,
          939,
          897,
          868,
          857,
          818,
          781,
          779,
          705,
          694,
          679,
          634,
          616,
          612,
          602,
          600,
          579,
          567,
          532,
          506,
          456,
          450,
          435,
          406,
          399,
          387,
          383,
          361,
          323,
          320,
          279,
          263,
          262,
          261,
          233,
          227,
          199,
          199,
          199,
          186,
          182,
          181,
          178,
          167,
          155,
          142,
          125,
          121,
          116,
          112,
          102,
          98,
          51,
          49,
          43,
          43,
          43,
          40,
          36,
          35,
          24,
          19,
          12,
          7,
          6,
          6,
          6
         ],
         "yaxis": "y"
        },
        {
         "hovertemplate": "POS=PG<br>Age=%{x}<br>PTS=%{y}<extra></extra>",
         "legendgroup": "PG",
         "marker": {
          "color": "#00cc96",
          "symbol": "circle"
         },
         "mode": "markers",
         "name": "PG",
         "orientation": "v",
         "showlegend": true,
         "type": "scatter",
         "x": [
          24,
          24,
          24,
          32,
          25,
          35,
          26,
          31,
          23,
          23,
          30,
          23,
          26,
          32,
          30,
          27,
          22,
          21,
          23,
          34,
          28,
          30,
          23,
          21,
          24,
          29,
          26,
          37,
          35,
          21,
          22,
          23,
          23,
          29,
          33,
          24,
          22,
          27,
          31,
          26,
          27,
          37,
          25,
          28,
          22,
          28,
          25,
          24,
          31,
          34,
          32,
          27,
          36,
          22,
          21,
          26,
          25,
          24,
          34,
          23,
          21,
          36,
          22,
          32,
          27,
          30,
          34,
          23,
          24,
          22,
          24,
          34,
          32,
          25,
          32,
          23,
          28
         ],
         "xaxis": "x",
         "y": [
          2138,
          2135,
          1914,
          1866,
          1826,
          1648,
          1633,
          1623,
          1596,
          1490,
          1369,
          1347,
          1298,
          1290,
          1271,
          1263,
          1218,
          1204,
          1160,
          1159,
          1017,
          1000,
          875,
          838,
          837,
          830,
          822,
          819,
          798,
          786,
          781,
          715,
          709,
          703,
          693,
          685,
          659,
          651,
          650,
          641,
          636,
          615,
          550,
          539,
          517,
          493,
          474,
          450,
          427,
          415,
          386,
          378,
          365,
          302,
          295,
          291,
          270,
          246,
          246,
          244,
          239,
          232,
          222,
          171,
          161,
          157,
          152,
          142,
          135,
          114,
          114,
          108,
          72,
          61,
          47,
          41,
          7
         ],
         "yaxis": "y"
        },
        {
         "hovertemplate": "POS=PF<br>Age=%{x}<br>PTS=%{y}<extra></extra>",
         "legendgroup": "PF",
         "marker": {
          "color": "#ab63fa",
          "symbol": "circle"
         },
         "mode": "markers",
         "name": "PF",
         "orientation": "v",
         "showlegend": true,
         "type": "scatter",
         "x": [
          28,
          28,
          29,
          25,
          26,
          30,
          20,
          34,
          21,
          23,
          24,
          27,
          30,
          19,
          22,
          25,
          32,
          21,
          22,
          25,
          22,
          25,
          30,
          25,
          22,
          29,
          20,
          23,
          24,
          24,
          33,
          27,
          26,
          29,
          26,
          34,
          23,
          24,
          25,
          29,
          34,
          22,
          30,
          36,
          29,
          24,
          26,
          22,
          32,
          22,
          37,
          23,
          34,
          21,
          22,
          31,
          26,
          27,
          30,
          34,
          22,
          24,
          33,
          24,
          32,
          27,
          30,
          25,
          36,
          21,
          42,
          27,
          26,
          21
         ],
         "xaxis": "x",
         "y": [
          1959,
          1936,
          1720,
          1691,
          1510,
          1451,
          1437,
          1366,
          1277,
          1173,
          1144,
          1109,
          1085,
          1010,
          953,
          931,
          847,
          833,
          791,
          755,
          754,
          731,
          712,
          707,
          696,
          671,
          666,
          642,
          641,
          619,
          617,
          562,
          559,
          551,
          518,
          509,
          508,
          504,
          497,
          493,
          478,
          459,
          441,
          437,
          362,
          346,
          321,
          292,
          288,
          277,
          266,
          263,
          240,
          225,
          224,
          220,
          206,
          196,
          195,
          170,
          157,
          153,
          132,
          128,
          124,
          122,
          89,
          55,
          51,
          28,
          27,
          25,
          22,
          9
         ],
         "yaxis": "y"
        },
        {
         "hovertemplate": "POS=SG<br>Age=%{x}<br>PTS=%{y}<extra></extra>",
         "legendgroup": "SG",
         "marker": {
          "color": "#FFA15A",
          "symbol": "circle"
         },
         "mode": "markers",
         "name": "SG",
         "orientation": "v",
         "showlegend": true,
         "type": "scatter",
         "x": [
          21,
          26,
          28,
          26,
          21,
          23,
          31,
          26,
          33,
          26,
          22,
          30,
          29,
          29,
          23,
          20,
          20,
          24,
          33,
          23,
          29,
          24,
          22,
          24,
          22,
          25,
          26,
          27,
          27,
          28,
          34,
          24,
          30,
          22,
          19,
          24,
          30,
          27,
          28,
          26,
          23,
          22,
          22,
          23,
          23,
          26,
          29,
          31,
          26,
          21,
          30,
          32,
          22,
          26,
          21,
          24,
          24,
          30,
          30,
          25,
          28,
          29,
          21,
          31,
          27,
          24,
          25,
          26,
          35,
          25,
          20,
          23,
          26,
          26,
          30,
          21,
          25,
          22,
          21,
          36,
          25,
          30,
          21,
          25,
          30,
          25,
          29,
          27,
          22,
          20,
          24,
          26,
          26,
          20,
          19,
          26,
          23,
          29,
          24,
          20,
          28
         ],
         "xaxis": "x",
         "y": [
          1946,
          1922,
          1913,
          1784,
          1683,
          1675,
          1568,
          1515,
          1509,
          1471,
          1431,
          1344,
          1335,
          1329,
          1306,
          1302,
          1260,
          1247,
          1216,
          1209,
          1160,
          1148,
          1148,
          1140,
          1130,
          1041,
          1025,
          972,
          923,
          897,
          856,
          833,
          822,
          799,
          789,
          780,
          756,
          750,
          743,
          713,
          704,
          703,
          698,
          691,
          687,
          678,
          654,
          652,
          637,
          604,
          604,
          561,
          546,
          546,
          524,
          522,
          479,
          466,
          449,
          431,
          397,
          374,
          372,
          369,
          364,
          363,
          362,
          346,
          317,
          309,
          302,
          297,
          293,
          257,
          255,
          226,
          222,
          191,
          189,
          179,
          172,
          165,
          143,
          140,
          101,
          92,
          89,
          89,
          37,
          28,
          25,
          25,
          21,
          19,
          9,
          5,
          0,
          0,
          0,
          0,
          0
         ],
         "yaxis": "y"
        },
        {
         "hovertemplate": "POS=F<br>Age=%{x}<br>PTS=%{y}<extra></extra>",
         "legendgroup": "F",
         "marker": {
          "color": "#19d3f3",
          "symbol": "circle"
         },
         "mode": "markers",
         "name": "F",
         "orientation": "v",
         "showlegend": true,
         "type": "scatter",
         "x": [
          33,
          27,
          22,
          22,
          28,
          21,
          19,
          19,
          27,
          22,
          24,
          25,
          26,
          32,
          25,
          27,
          20,
          26,
          21,
          29,
          22,
          20,
          28,
          26,
          20,
          25,
          21,
          19,
          25,
          37,
          21,
          25,
          29,
          26,
          20,
          20,
          19,
          21,
          24,
          23,
          20,
          19,
          20,
          23,
          33,
          35,
          21,
          26,
          20,
          20,
          23,
          25,
          23,
          39,
          24,
          25,
          23,
          23,
          23,
          23,
          27,
          22,
          27,
          24,
          27,
          26
         ],
         "xaxis": "x",
         "y": [
          1332,
          1114,
          1056,
          1039,
          987,
          760,
          639,
          614,
          578,
          466,
          429,
          415,
          372,
          366,
          328,
          328,
          288,
          278,
          276,
          268,
          266,
          262,
          251,
          236,
          216,
          214,
          210,
          193,
          172,
          168,
          165,
          139,
          130,
          122,
          122,
          120,
          110,
          105,
          98,
          89,
          85,
          82,
          75,
          69,
          66,
          61,
          59,
          57,
          46,
          45,
          31,
          21,
          20,
          17,
          17,
          17,
          16,
          16,
          15,
          9,
          7,
          6,
          5,
          3,
          2,
          2
         ],
         "yaxis": "y"
        },
        {
         "hovertemplate": "POS=G<br>Age=%{x}<br>PTS=%{y}<extra></extra>",
         "legendgroup": "G",
         "marker": {
          "color": "#FF6692",
          "symbol": "circle"
         },
         "mode": "markers",
         "name": "G",
         "orientation": "v",
         "showlegend": true,
         "type": "scatter",
         "x": [
          29,
          24,
          19,
          24,
          32,
          27,
          23,
          20,
          24,
          32,
          22,
          29,
          26,
          20,
          20,
          20,
          20,
          31,
          21,
          23,
          23,
          21,
          25,
          20,
          27,
          22,
          23,
          20,
          22,
          24,
          24,
          24,
          25,
          23,
          25,
          24,
          29,
          20,
          21,
          27,
          22,
          22,
          21,
          29,
          29,
          23,
          20,
          26,
          24,
          25,
          31,
          23,
          22,
          22,
          32,
          22,
          24,
          27,
          25,
          26,
          22,
          21,
          23,
          24,
          19,
          24
         ],
         "xaxis": "x",
         "y": [
          1019,
          1013,
          673,
          654,
          522,
          496,
          467,
          420,
          407,
          379,
          360,
          290,
          247,
          246,
          227,
          193,
          184,
          183,
          163,
          154,
          151,
          145,
          141,
          128,
          95,
          87,
          85,
          78,
          56,
          56,
          53,
          52,
          50,
          45,
          44,
          44,
          44,
          42,
          42,
          38,
          36,
          30,
          28,
          26,
          24,
          24,
          23,
          22,
          21,
          20,
          17,
          15,
          14,
          13,
          10,
          10,
          9,
          9,
          5,
          4,
          4,
          4,
          3,
          3,
          3,
          2
         ],
         "yaxis": "y"
        }
       ],
       "layout": {
        "legend": {
         "title": {
          "text": "POS"
         },
         "tracegroupgap": 0
        },
        "template": {
         "data": {
          "bar": [
           {
            "error_x": {
             "color": "#f2f5fa"
            },
            "error_y": {
             "color": "#f2f5fa"
            },
            "marker": {
             "line": {
              "color": "rgb(17,17,17)",
              "width": 0.5
             },
             "pattern": {
              "fillmode": "overlay",
              "size": 10,
              "solidity": 0.2
             }
            },
            "type": "bar"
           }
          ],
          "barpolar": [
           {
            "marker": {
             "line": {
              "color": "rgb(17,17,17)",
              "width": 0.5
             },
             "pattern": {
              "fillmode": "overlay",
              "size": 10,
              "solidity": 0.2
             }
            },
            "type": "barpolar"
           }
          ],
          "carpet": [
           {
            "aaxis": {
             "endlinecolor": "#A2B1C6",
             "gridcolor": "#506784",
             "linecolor": "#506784",
             "minorgridcolor": "#506784",
             "startlinecolor": "#A2B1C6"
            },
            "baxis": {
             "endlinecolor": "#A2B1C6",
             "gridcolor": "#506784",
             "linecolor": "#506784",
             "minorgridcolor": "#506784",
             "startlinecolor": "#A2B1C6"
            },
            "type": "carpet"
           }
          ],
          "choropleth": [
           {
            "colorbar": {
             "outlinewidth": 0,
             "ticks": ""
            },
            "type": "choropleth"
           }
          ],
          "contour": [
           {
            "colorbar": {
             "outlinewidth": 0,
             "ticks": ""
            },
            "colorscale": [
             [
              0,
              "#0d0887"
             ],
             [
              0.1111111111111111,
              "#46039f"
             ],
             [
              0.2222222222222222,
              "#7201a8"
             ],
             [
              0.3333333333333333,
              "#9c179e"
             ],
             [
              0.4444444444444444,
              "#bd3786"
             ],
             [
              0.5555555555555556,
              "#d8576b"
             ],
             [
              0.6666666666666666,
              "#ed7953"
             ],
             [
              0.7777777777777778,
              "#fb9f3a"
             ],
             [
              0.8888888888888888,
              "#fdca26"
             ],
             [
              1,
              "#f0f921"
             ]
            ],
            "type": "contour"
           }
          ],
          "contourcarpet": [
           {
            "colorbar": {
             "outlinewidth": 0,
             "ticks": ""
            },
            "type": "contourcarpet"
           }
          ],
          "heatmap": [
           {
            "colorbar": {
             "outlinewidth": 0,
             "ticks": ""
            },
            "colorscale": [
             [
              0,
              "#0d0887"
             ],
             [
              0.1111111111111111,
              "#46039f"
             ],
             [
              0.2222222222222222,
              "#7201a8"
             ],
             [
              0.3333333333333333,
              "#9c179e"
             ],
             [
              0.4444444444444444,
              "#bd3786"
             ],
             [
              0.5555555555555556,
              "#d8576b"
             ],
             [
              0.6666666666666666,
              "#ed7953"
             ],
             [
              0.7777777777777778,
              "#fb9f3a"
             ],
             [
              0.8888888888888888,
              "#fdca26"
             ],
             [
              1,
              "#f0f921"
             ]
            ],
            "type": "heatmap"
           }
          ],
          "heatmapgl": [
           {
            "colorbar": {
             "outlinewidth": 0,
             "ticks": ""
            },
            "colorscale": [
             [
              0,
              "#0d0887"
             ],
             [
              0.1111111111111111,
              "#46039f"
             ],
             [
              0.2222222222222222,
              "#7201a8"
             ],
             [
              0.3333333333333333,
              "#9c179e"
             ],
             [
              0.4444444444444444,
              "#bd3786"
             ],
             [
              0.5555555555555556,
              "#d8576b"
             ],
             [
              0.6666666666666666,
              "#ed7953"
             ],
             [
              0.7777777777777778,
              "#fb9f3a"
             ],
             [
              0.8888888888888888,
              "#fdca26"
             ],
             [
              1,
              "#f0f921"
             ]
            ],
            "type": "heatmapgl"
           }
          ],
          "histogram": [
           {
            "marker": {
             "pattern": {
              "fillmode": "overlay",
              "size": 10,
              "solidity": 0.2
             }
            },
            "type": "histogram"
           }
          ],
          "histogram2d": [
           {
            "colorbar": {
             "outlinewidth": 0,
             "ticks": ""
            },
            "colorscale": [
             [
              0,
              "#0d0887"
             ],
             [
              0.1111111111111111,
              "#46039f"
             ],
             [
              0.2222222222222222,
              "#7201a8"
             ],
             [
              0.3333333333333333,
              "#9c179e"
             ],
             [
              0.4444444444444444,
              "#bd3786"
             ],
             [
              0.5555555555555556,
              "#d8576b"
             ],
             [
              0.6666666666666666,
              "#ed7953"
             ],
             [
              0.7777777777777778,
              "#fb9f3a"
             ],
             [
              0.8888888888888888,
              "#fdca26"
             ],
             [
              1,
              "#f0f921"
             ]
            ],
            "type": "histogram2d"
           }
          ],
          "histogram2dcontour": [
           {
            "colorbar": {
             "outlinewidth": 0,
             "ticks": ""
            },
            "colorscale": [
             [
              0,
              "#0d0887"
             ],
             [
              0.1111111111111111,
              "#46039f"
             ],
             [
              0.2222222222222222,
              "#7201a8"
             ],
             [
              0.3333333333333333,
              "#9c179e"
             ],
             [
              0.4444444444444444,
              "#bd3786"
             ],
             [
              0.5555555555555556,
              "#d8576b"
             ],
             [
              0.6666666666666666,
              "#ed7953"
             ],
             [
              0.7777777777777778,
              "#fb9f3a"
             ],
             [
              0.8888888888888888,
              "#fdca26"
             ],
             [
              1,
              "#f0f921"
             ]
            ],
            "type": "histogram2dcontour"
           }
          ],
          "mesh3d": [
           {
            "colorbar": {
             "outlinewidth": 0,
             "ticks": ""
            },
            "type": "mesh3d"
           }
          ],
          "parcoords": [
           {
            "line": {
             "colorbar": {
              "outlinewidth": 0,
              "ticks": ""
             }
            },
            "type": "parcoords"
           }
          ],
          "pie": [
           {
            "automargin": true,
            "type": "pie"
           }
          ],
          "scatter": [
           {
            "marker": {
             "line": {
              "color": "#283442"
             }
            },
            "type": "scatter"
           }
          ],
          "scatter3d": [
           {
            "line": {
             "colorbar": {
              "outlinewidth": 0,
              "ticks": ""
             }
            },
            "marker": {
             "colorbar": {
              "outlinewidth": 0,
              "ticks": ""
             }
            },
            "type": "scatter3d"
           }
          ],
          "scattercarpet": [
           {
            "marker": {
             "colorbar": {
              "outlinewidth": 0,
              "ticks": ""
             }
            },
            "type": "scattercarpet"
           }
          ],
          "scattergeo": [
           {
            "marker": {
             "colorbar": {
              "outlinewidth": 0,
              "ticks": ""
             }
            },
            "type": "scattergeo"
           }
          ],
          "scattergl": [
           {
            "marker": {
             "line": {
              "color": "#283442"
             }
            },
            "type": "scattergl"
           }
          ],
          "scattermapbox": [
           {
            "marker": {
             "colorbar": {
              "outlinewidth": 0,
              "ticks": ""
             }
            },
            "type": "scattermapbox"
           }
          ],
          "scatterpolar": [
           {
            "marker": {
             "colorbar": {
              "outlinewidth": 0,
              "ticks": ""
             }
            },
            "type": "scatterpolar"
           }
          ],
          "scatterpolargl": [
           {
            "marker": {
             "colorbar": {
              "outlinewidth": 0,
              "ticks": ""
             }
            },
            "type": "scatterpolargl"
           }
          ],
          "scatterternary": [
           {
            "marker": {
             "colorbar": {
              "outlinewidth": 0,
              "ticks": ""
             }
            },
            "type": "scatterternary"
           }
          ],
          "surface": [
           {
            "colorbar": {
             "outlinewidth": 0,
             "ticks": ""
            },
            "colorscale": [
             [
              0,
              "#0d0887"
             ],
             [
              0.1111111111111111,
              "#46039f"
             ],
             [
              0.2222222222222222,
              "#7201a8"
             ],
             [
              0.3333333333333333,
              "#9c179e"
             ],
             [
              0.4444444444444444,
              "#bd3786"
             ],
             [
              0.5555555555555556,
              "#d8576b"
             ],
             [
              0.6666666666666666,
              "#ed7953"
             ],
             [
              0.7777777777777778,
              "#fb9f3a"
             ],
             [
              0.8888888888888888,
              "#fdca26"
             ],
             [
              1,
              "#f0f921"
             ]
            ],
            "type": "surface"
           }
          ],
          "table": [
           {
            "cells": {
             "fill": {
              "color": "#506784"
             },
             "line": {
              "color": "rgb(17,17,17)"
             }
            },
            "header": {
             "fill": {
              "color": "#2a3f5f"
             },
             "line": {
              "color": "rgb(17,17,17)"
             }
            },
            "type": "table"
           }
          ]
         },
         "layout": {
          "annotationdefaults": {
           "arrowcolor": "#f2f5fa",
           "arrowhead": 0,
           "arrowwidth": 1
          },
          "autotypenumbers": "strict",
          "coloraxis": {
           "colorbar": {
            "outlinewidth": 0,
            "ticks": ""
           }
          },
          "colorscale": {
           "diverging": [
            [
             0,
             "#8e0152"
            ],
            [
             0.1,
             "#c51b7d"
            ],
            [
             0.2,
             "#de77ae"
            ],
            [
             0.3,
             "#f1b6da"
            ],
            [
             0.4,
             "#fde0ef"
            ],
            [
             0.5,
             "#f7f7f7"
            ],
            [
             0.6,
             "#e6f5d0"
            ],
            [
             0.7,
             "#b8e186"
            ],
            [
             0.8,
             "#7fbc41"
            ],
            [
             0.9,
             "#4d9221"
            ],
            [
             1,
             "#276419"
            ]
           ],
           "sequential": [
            [
             0,
             "#0d0887"
            ],
            [
             0.1111111111111111,
             "#46039f"
            ],
            [
             0.2222222222222222,
             "#7201a8"
            ],
            [
             0.3333333333333333,
             "#9c179e"
            ],
            [
             0.4444444444444444,
             "#bd3786"
            ],
            [
             0.5555555555555556,
             "#d8576b"
            ],
            [
             0.6666666666666666,
             "#ed7953"
            ],
            [
             0.7777777777777778,
             "#fb9f3a"
            ],
            [
             0.8888888888888888,
             "#fdca26"
            ],
            [
             1,
             "#f0f921"
            ]
           ],
           "sequentialminus": [
            [
             0,
             "#0d0887"
            ],
            [
             0.1111111111111111,
             "#46039f"
            ],
            [
             0.2222222222222222,
             "#7201a8"
            ],
            [
             0.3333333333333333,
             "#9c179e"
            ],
            [
             0.4444444444444444,
             "#bd3786"
            ],
            [
             0.5555555555555556,
             "#d8576b"
            ],
            [
             0.6666666666666666,
             "#ed7953"
            ],
            [
             0.7777777777777778,
             "#fb9f3a"
            ],
            [
             0.8888888888888888,
             "#fdca26"
            ],
            [
             1,
             "#f0f921"
            ]
           ]
          },
          "colorway": [
           "#636efa",
           "#EF553B",
           "#00cc96",
           "#ab63fa",
           "#FFA15A",
           "#19d3f3",
           "#FF6692",
           "#B6E880",
           "#FF97FF",
           "#FECB52"
          ],
          "font": {
           "color": "#f2f5fa"
          },
          "geo": {
           "bgcolor": "rgb(17,17,17)",
           "lakecolor": "rgb(17,17,17)",
           "landcolor": "rgb(17,17,17)",
           "showlakes": true,
           "showland": true,
           "subunitcolor": "#506784"
          },
          "hoverlabel": {
           "align": "left"
          },
          "hovermode": "closest",
          "mapbox": {
           "style": "dark"
          },
          "paper_bgcolor": "rgb(17,17,17)",
          "plot_bgcolor": "rgb(17,17,17)",
          "polar": {
           "angularaxis": {
            "gridcolor": "#506784",
            "linecolor": "#506784",
            "ticks": ""
           },
           "bgcolor": "rgb(17,17,17)",
           "radialaxis": {
            "gridcolor": "#506784",
            "linecolor": "#506784",
            "ticks": ""
           }
          },
          "scene": {
           "xaxis": {
            "backgroundcolor": "rgb(17,17,17)",
            "gridcolor": "#506784",
            "gridwidth": 2,
            "linecolor": "#506784",
            "showbackground": true,
            "ticks": "",
            "zerolinecolor": "#C8D4E3"
           },
           "yaxis": {
            "backgroundcolor": "rgb(17,17,17)",
            "gridcolor": "#506784",
            "gridwidth": 2,
            "linecolor": "#506784",
            "showbackground": true,
            "ticks": "",
            "zerolinecolor": "#C8D4E3"
           },
           "zaxis": {
            "backgroundcolor": "rgb(17,17,17)",
            "gridcolor": "#506784",
            "gridwidth": 2,
            "linecolor": "#506784",
            "showbackground": true,
            "ticks": "",
            "zerolinecolor": "#C8D4E3"
           }
          },
          "shapedefaults": {
           "line": {
            "color": "#f2f5fa"
           }
          },
          "sliderdefaults": {
           "bgcolor": "#C8D4E3",
           "bordercolor": "rgb(17,17,17)",
           "borderwidth": 1,
           "tickwidth": 0
          },
          "ternary": {
           "aaxis": {
            "gridcolor": "#506784",
            "linecolor": "#506784",
            "ticks": ""
           },
           "baxis": {
            "gridcolor": "#506784",
            "linecolor": "#506784",
            "ticks": ""
           },
           "bgcolor": "rgb(17,17,17)",
           "caxis": {
            "gridcolor": "#506784",
            "linecolor": "#506784",
            "ticks": ""
           }
          },
          "title": {
           "x": 0.05
          },
          "updatemenudefaults": {
           "bgcolor": "#506784",
           "borderwidth": 0
          },
          "xaxis": {
           "automargin": true,
           "gridcolor": "#283442",
           "linecolor": "#506784",
           "ticks": "",
           "title": {
            "standoff": 15
           },
           "zerolinecolor": "#283442",
           "zerolinewidth": 2
          },
          "yaxis": {
           "automargin": true,
           "gridcolor": "#283442",
           "linecolor": "#506784",
           "ticks": "",
           "title": {
            "standoff": 15
           },
           "zerolinecolor": "#283442",
           "zerolinewidth": 2
          }
         }
        },
        "title": {
         "text": "Player Age vs Total Points"
        },
        "xaxis": {
         "anchor": "y",
         "domain": [
          0,
          1
         ],
         "title": {
          "text": "Age"
         }
        },
        "yaxis": {
         "anchor": "x",
         "domain": [
          0,
          1
         ],
         "title": {
          "text": "PTS"
         }
        }
       }
      }
     },
     "metadata": {},
     "output_type": "display_data"
    },
    {
     "data": {
      "application/vnd.plotly.v1+json": {
       "config": {
        "plotlyServerURL": "https://plot.ly"
       },
       "data": [
        {
         "hovertemplate": "POS=SF<br>Age=%{x}<br>FG%=%{y}<extra></extra>",
         "legendgroup": "SF",
         "marker": {
          "color": "#636efa",
          "symbol": "circle"
         },
         "mode": "markers",
         "name": "SF",
         "orientation": "v",
         "showlegend": true,
         "type": "scatter",
         "x": [
          25,
          33,
          26,
          38,
          21,
          33,
          23,
          27,
          29,
          34,
          31,
          30,
          21,
          25,
          25,
          24,
          24,
          27,
          25,
          31,
          22,
          26,
          24,
          23,
          33,
          33,
          25,
          22,
          27,
          28,
          31,
          27,
          24,
          27,
          29,
          29,
          28,
          32,
          31,
          32,
          24,
          23,
          24,
          25,
          31,
          22,
          21,
          28,
          23,
          24,
          21,
          23,
          23,
          28,
          26,
          29,
          26,
          36,
          23,
          27,
          29,
          30,
          34,
          26,
          29,
          26,
          30,
          22,
          30,
          36,
          24,
          29,
          27,
          28,
          24,
          21,
          23
         ],
         "xaxis": "x",
         "y": [
          46.6,
          50.4,
          46.8,
          50,
          48.5,
          53.9,
          45.2,
          44.8,
          47.5,
          48.8,
          51.2,
          47.3,
          45.6,
          47.6,
          48.4,
          48.7,
          42.2,
          39.6,
          46.1,
          40.1,
          45.3,
          48.3,
          49.7,
          42.7,
          47.5,
          42.6,
          43.3,
          43.7,
          46.4,
          45.1,
          45.7,
          47,
          46.9,
          50.8,
          50.9,
          44.2,
          47.3,
          45.6,
          45.7,
          40.9,
          43.6,
          43,
          39.1,
          45.5,
          43.6,
          49.4,
          56.3,
          51.7,
          45.8,
          38.6,
          49.1,
          44.6,
          44.2,
          49.1,
          50,
          48.9,
          47.6,
          37.8,
          59.3,
          48,
          47.2,
          43.1,
          37.7,
          53.3,
          56.5,
          45.1,
          44.8,
          38.7,
          43.5,
          40,
          42.1,
          50,
          38.9,
          25.9,
          61.5,
          33.3,
          21.4
         ],
         "yaxis": "y"
        },
        {
         "hovertemplate": "POS=C<br>Age=%{x}<br>FG%=%{y}<extra></extra>",
         "legendgroup": "C",
         "marker": {
          "color": "#EF553B",
          "symbol": "circle"
         },
         "mode": "markers",
         "name": "C",
         "orientation": "v",
         "showlegend": true,
         "type": "scatter",
         "x": [
          29,
          28,
          25,
          27,
          32,
          35,
          24,
          30,
          27,
          20,
          25,
          24,
          30,
          27,
          24,
          33,
          26,
          23,
          28,
          24,
          28,
          21,
          23,
          36,
          19,
          27,
          26,
          25,
          21,
          25,
          31,
          27,
          22,
          25,
          24,
          29,
          21,
          31,
          29,
          24,
          29,
          25,
          30,
          28,
          27,
          22,
          21,
          22,
          34,
          33,
          35,
          22,
          24,
          24,
          23,
          23,
          27,
          23,
          33,
          22,
          35,
          34,
          30,
          25,
          31,
          29,
          30,
          31,
          24,
          24,
          29,
          25,
          25,
          23,
          27,
          23,
          25,
          22
         ],
         "xaxis": "x",
         "y": [
          54.8,
          63.2,
          54,
          49.8,
          52,
          53.1,
          58.9,
          54.7,
          54.8,
          55.3,
          64.4,
          70.5,
          65.9,
          62.9,
          52.5,
          68,
          63.4,
          53.7,
          65.3,
          73.2,
          51.9,
          72,
          54.6,
          47.6,
          64.8,
          49.5,
          50,
          62.3,
          44.2,
          62.9,
          73.2,
          52.8,
          55.8,
          67.1,
          53.5,
          60.6,
          63.7,
          44.9,
          59.7,
          48.5,
          59.8,
          74.7,
          57.8,
          52.7,
          66.5,
          55.1,
          54.4,
          64.4,
          76.5,
          51,
          64,
          48,
          54.3,
          77.6,
          55.2,
          63.5,
          64,
          81.9,
          38.5,
          52.8,
          64,
          68.3,
          62.7,
          60,
          47.7,
          53.3,
          59.4,
          48.3,
          59.3,
          50,
          36.1,
          66.7,
          50,
          66.7,
          60,
          28.6,
          28.6,
          25
         ],
         "yaxis": "y"
        },
        {
         "hovertemplate": "POS=PG<br>Age=%{x}<br>FG%=%{y}<extra></extra>",
         "legendgroup": "PG",
         "marker": {
          "color": "#00cc96",
          "symbol": "circle"
         },
         "mode": "markers",
         "name": "PG",
         "orientation": "v",
         "showlegend": true,
         "type": "scatter",
         "x": [
          24,
          24,
          24,
          32,
          25,
          35,
          26,
          31,
          23,
          23,
          30,
          23,
          26,
          32,
          30,
          27,
          22,
          21,
          23,
          34,
          28,
          30,
          23,
          21,
          24,
          29,
          26,
          37,
          35,
          21,
          22,
          23,
          23,
          29,
          33,
          24,
          22,
          27,
          31,
          26,
          27,
          37,
          25,
          28,
          22,
          28,
          25,
          24,
          31,
          34,
          32,
          27,
          36,
          22,
          21,
          26,
          25,
          24,
          34,
          23,
          21,
          36,
          22,
          32,
          27,
          30,
          34,
          23,
          24,
          22,
          24,
          34,
          32,
          25,
          32,
          23,
          28
         ],
         "xaxis": "x",
         "y": [
          49.6,
          51,
          42.9,
          46.3,
          51.2,
          49.3,
          49.1,
          49.4,
          46.6,
          46.2,
          43.8,
          43.9,
          45.4,
          47.9,
          44.4,
          46.9,
          48.1,
          41.6,
          49,
          43.6,
          46.2,
          48.4,
          45.9,
          41.1,
          51.4,
          41.5,
          43.8,
          44,
          42.8,
          37.7,
          45.4,
          44.3,
          44.1,
          41.5,
          41.1,
          50.6,
          39.9,
          42.3,
          54.3,
          40.2,
          48,
          40.4,
          41.1,
          37.4,
          39.3,
          41.5,
          41.2,
          45.4,
          42.7,
          40,
          40.7,
          46.1,
          42.1,
          43,
          40.2,
          56.6,
          41.2,
          36,
          41.1,
          36.7,
          41.5,
          47,
          35.8,
          34.3,
          42.1,
          51.8,
          38.4,
          42.3,
          36.4,
          45.5,
          46.9,
          39.7,
          42.1,
          43.9,
          34,
          43.9,
          33.3
         ],
         "yaxis": "y"
        },
        {
         "hovertemplate": "POS=PF<br>Age=%{x}<br>FG%=%{y}<extra></extra>",
         "legendgroup": "PF",
         "marker": {
          "color": "#ab63fa",
          "symbol": "circle"
         },
         "mode": "markers",
         "name": "PF",
         "orientation": "v",
         "showlegend": true,
         "type": "scatter",
         "x": [
          28,
          28,
          29,
          25,
          26,
          30,
          20,
          34,
          21,
          23,
          24,
          27,
          30,
          19,
          22,
          25,
          32,
          21,
          22,
          25,
          22,
          25,
          30,
          25,
          22,
          29,
          20,
          23,
          24,
          24,
          33,
          27,
          26,
          29,
          26,
          34,
          23,
          24,
          25,
          29,
          34,
          22,
          30,
          36,
          29,
          24,
          26,
          22,
          32,
          22,
          37,
          23,
          34,
          21,
          22,
          31,
          26,
          27,
          30,
          34,
          22,
          24,
          33,
          24,
          32,
          27,
          30,
          25,
          36,
          21,
          42,
          27,
          26,
          21
         ],
         "xaxis": "x",
         "y": [
          55.3,
          45.9,
          48,
          49.9,
          61.5,
          56.3,
          42.7,
          56,
          55.4,
          50.6,
          44.4,
          56.4,
          50.1,
          40.8,
          51.7,
          50.8,
          49.9,
          46.4,
          63.8,
          45.5,
          60.8,
          51.8,
          49.3,
          48.6,
          47,
          38.6,
          52.5,
          47.6,
          45.4,
          54.8,
          52.7,
          45.8,
          65.6,
          39.1,
          64.1,
          38.9,
          48.5,
          52.9,
          44.6,
          46.7,
          42,
          56,
          61,
          48.8,
          45.8,
          41.7,
          58.9,
          44.4,
          44.5,
          56.1,
          42.7,
          42.2,
          54.5,
          48.6,
          45.4,
          45.6,
          41.2,
          40.9,
          53.8,
          48.5,
          55.8,
          52.7,
          40.9,
          35.2,
          47.9,
          42.1,
          49.2,
          41.5,
          44.9,
          39.3,
          34.5,
          45.8,
          57.1,
          15.8
         ],
         "yaxis": "y"
        },
        {
         "hovertemplate": "POS=SG<br>Age=%{x}<br>FG%=%{y}<extra></extra>",
         "legendgroup": "SG",
         "marker": {
          "color": "#FFA15A",
          "symbol": "circle"
         },
         "mode": "markers",
         "name": "SG",
         "orientation": "v",
         "showlegend": true,
         "type": "scatter",
         "x": [
          21,
          26,
          28,
          26,
          21,
          23,
          31,
          26,
          33,
          26,
          22,
          30,
          29,
          29,
          23,
          20,
          20,
          24,
          33,
          23,
          29,
          24,
          22,
          24,
          22,
          25,
          26,
          27,
          27,
          28,
          34,
          24,
          30,
          22,
          19,
          24,
          30,
          27,
          28,
          26,
          23,
          22,
          22,
          23,
          23,
          26,
          29,
          31,
          26,
          21,
          30,
          32,
          22,
          26,
          21,
          24,
          24,
          30,
          30,
          25,
          28,
          29,
          21,
          31,
          27,
          24,
          25,
          26,
          35,
          25,
          20,
          23,
          26,
          26,
          30,
          21,
          25,
          22,
          21,
          36,
          25,
          30,
          21,
          25,
          30,
          25,
          29,
          27,
          22,
          20,
          24,
          26,
          26,
          20,
          19,
          26,
          23,
          29,
          24,
          20,
          28
         ],
         "xaxis": "x",
         "y": [
          45.9,
          48.4,
          48.5,
          49.1,
          41.6,
          43,
          43.7,
          46.4,
          43.6,
          49.4,
          43.4,
          45.8,
          39.3,
          41.5,
          44.7,
          43.4,
          48.2,
          47.9,
          44.1,
          44.8,
          50.6,
          43.3,
          48.4,
          48.5,
          44.2,
          44.8,
          39.5,
          43.1,
          41,
          43.1,
          44.6,
          52.9,
          46.2,
          46.8,
          47.2,
          42.5,
          44.7,
          44,
          52.9,
          51.9,
          44.8,
          43.9,
          41.9,
          44.1,
          49.3,
          43.5,
          43.1,
          43.6,
          47.9,
          44.1,
          44.2,
          46.3,
          53.7,
          49.2,
          41.9,
          57.3,
          51.2,
          39.2,
          39.7,
          42.3,
          45,
          45.5,
          46.5,
          47.4,
          43.1,
          44.4,
          36.9,
          37.7,
          43.5,
          48.8,
          47.6,
          46.7,
          43.5,
          36.3,
          43.5,
          34.2,
          44.5,
          35.8,
          37.6,
          36.3,
          38.6,
          33.7,
          41.8,
          43.2,
          59.4,
          50,
          36.1,
          33.3,
          46.9,
          34.6,
          45,
          40.9,
          24.1,
          42.1,
          57.1,
          66.7,
          0,
          0,
          0,
          0,
          0
         ],
         "yaxis": "y"
        },
        {
         "hovertemplate": "POS=F<br>Age=%{x}<br>FG%=%{y}<extra></extra>",
         "legendgroup": "F",
         "marker": {
          "color": "#19d3f3",
          "symbol": "circle"
         },
         "mode": "markers",
         "name": "F",
         "orientation": "v",
         "showlegend": true,
         "type": "scatter",
         "x": [
          33,
          27,
          22,
          22,
          28,
          21,
          19,
          19,
          27,
          22,
          24,
          25,
          26,
          32,
          25,
          27,
          20,
          26,
          21,
          29,
          22,
          20,
          28,
          26,
          20,
          25,
          21,
          19,
          25,
          37,
          21,
          25,
          29,
          26,
          20,
          20,
          19,
          21,
          24,
          23,
          20,
          19,
          20,
          23,
          33,
          35,
          21,
          26,
          20,
          20,
          23,
          25,
          23,
          39,
          24,
          25,
          23,
          23,
          23,
          23,
          27,
          22,
          27,
          24,
          27,
          26
         ],
         "xaxis": "x",
         "y": [
          45.7,
          51.5,
          52.1,
          56.9,
          49.6,
          44.8,
          46.5,
          45.3,
          63,
          42.9,
          61.4,
          47.1,
          59.6,
          54,
          44.8,
          36.9,
          43.6,
          44.3,
          43.4,
          37.1,
          39.5,
          39.9,
          37,
          43.1,
          41.9,
          39.3,
          42.9,
          42,
          43.2,
          52,
          45.4,
          56.8,
          61.8,
          37,
          39.4,
          52.7,
          53.5,
          38.9,
          56.1,
          52,
          44.4,
          40.6,
          49.2,
          45.6,
          48.1,
          44.9,
          51.1,
          48,
          50,
          32.1,
          42.9,
          42.1,
          50,
          46.7,
          30.4,
          50,
          18.5,
          50,
          41.7,
          33.3,
          50,
          15,
          50,
          50,
          50,
          100
         ],
         "yaxis": "y"
        },
        {
         "hovertemplate": "POS=G<br>Age=%{x}<br>FG%=%{y}<extra></extra>",
         "legendgroup": "G",
         "marker": {
          "color": "#FF6692",
          "symbol": "circle"
         },
         "mode": "markers",
         "name": "G",
         "orientation": "v",
         "showlegend": true,
         "type": "scatter",
         "x": [
          29,
          24,
          19,
          24,
          32,
          27,
          23,
          20,
          24,
          32,
          22,
          29,
          26,
          20,
          20,
          20,
          20,
          31,
          21,
          23,
          23,
          21,
          25,
          20,
          27,
          22,
          23,
          20,
          22,
          24,
          24,
          24,
          25,
          23,
          25,
          24,
          29,
          20,
          21,
          27,
          22,
          22,
          21,
          29,
          29,
          23,
          20,
          26,
          24,
          25,
          31,
          23,
          22,
          22,
          32,
          22,
          24,
          27,
          25,
          26,
          22,
          21,
          23,
          24,
          19,
          24
         ],
         "xaxis": "x",
         "y": [
          47.9,
          38.8,
          44,
          44.8,
          43,
          42.4,
          42.7,
          43.8,
          44.8,
          37.9,
          49.5,
          53.7,
          41.8,
          39.6,
          41.8,
          36.3,
          32.1,
          40.8,
          38.6,
          42.4,
          40.5,
          36.3,
          43.9,
          41.5,
          35.6,
          33.7,
          46.2,
          42.2,
          50,
          45.2,
          61.5,
          41.7,
          48.6,
          38.6,
          40,
          39.5,
          41.7,
          48.6,
          41.9,
          60.7,
          40.5,
          30,
          32.1,
          24.3,
          38.1,
          43.8,
          35,
          30.3,
          39.1,
          40,
          42.9,
          42.9,
          33.3,
          71.4,
          23.1,
          40,
          22.2,
          80,
          16.7,
          100,
          40,
          40,
          10,
          33.3,
          25,
          0
         ],
         "yaxis": "y"
        }
       ],
       "layout": {
        "legend": {
         "title": {
          "text": "POS"
         },
         "tracegroupgap": 0
        },
        "template": {
         "data": {
          "bar": [
           {
            "error_x": {
             "color": "#f2f5fa"
            },
            "error_y": {
             "color": "#f2f5fa"
            },
            "marker": {
             "line": {
              "color": "rgb(17,17,17)",
              "width": 0.5
             },
             "pattern": {
              "fillmode": "overlay",
              "size": 10,
              "solidity": 0.2
             }
            },
            "type": "bar"
           }
          ],
          "barpolar": [
           {
            "marker": {
             "line": {
              "color": "rgb(17,17,17)",
              "width": 0.5
             },
             "pattern": {
              "fillmode": "overlay",
              "size": 10,
              "solidity": 0.2
             }
            },
            "type": "barpolar"
           }
          ],
          "carpet": [
           {
            "aaxis": {
             "endlinecolor": "#A2B1C6",
             "gridcolor": "#506784",
             "linecolor": "#506784",
             "minorgridcolor": "#506784",
             "startlinecolor": "#A2B1C6"
            },
            "baxis": {
             "endlinecolor": "#A2B1C6",
             "gridcolor": "#506784",
             "linecolor": "#506784",
             "minorgridcolor": "#506784",
             "startlinecolor": "#A2B1C6"
            },
            "type": "carpet"
           }
          ],
          "choropleth": [
           {
            "colorbar": {
             "outlinewidth": 0,
             "ticks": ""
            },
            "type": "choropleth"
           }
          ],
          "contour": [
           {
            "colorbar": {
             "outlinewidth": 0,
             "ticks": ""
            },
            "colorscale": [
             [
              0,
              "#0d0887"
             ],
             [
              0.1111111111111111,
              "#46039f"
             ],
             [
              0.2222222222222222,
              "#7201a8"
             ],
             [
              0.3333333333333333,
              "#9c179e"
             ],
             [
              0.4444444444444444,
              "#bd3786"
             ],
             [
              0.5555555555555556,
              "#d8576b"
             ],
             [
              0.6666666666666666,
              "#ed7953"
             ],
             [
              0.7777777777777778,
              "#fb9f3a"
             ],
             [
              0.8888888888888888,
              "#fdca26"
             ],
             [
              1,
              "#f0f921"
             ]
            ],
            "type": "contour"
           }
          ],
          "contourcarpet": [
           {
            "colorbar": {
             "outlinewidth": 0,
             "ticks": ""
            },
            "type": "contourcarpet"
           }
          ],
          "heatmap": [
           {
            "colorbar": {
             "outlinewidth": 0,
             "ticks": ""
            },
            "colorscale": [
             [
              0,
              "#0d0887"
             ],
             [
              0.1111111111111111,
              "#46039f"
             ],
             [
              0.2222222222222222,
              "#7201a8"
             ],
             [
              0.3333333333333333,
              "#9c179e"
             ],
             [
              0.4444444444444444,
              "#bd3786"
             ],
             [
              0.5555555555555556,
              "#d8576b"
             ],
             [
              0.6666666666666666,
              "#ed7953"
             ],
             [
              0.7777777777777778,
              "#fb9f3a"
             ],
             [
              0.8888888888888888,
              "#fdca26"
             ],
             [
              1,
              "#f0f921"
             ]
            ],
            "type": "heatmap"
           }
          ],
          "heatmapgl": [
           {
            "colorbar": {
             "outlinewidth": 0,
             "ticks": ""
            },
            "colorscale": [
             [
              0,
              "#0d0887"
             ],
             [
              0.1111111111111111,
              "#46039f"
             ],
             [
              0.2222222222222222,
              "#7201a8"
             ],
             [
              0.3333333333333333,
              "#9c179e"
             ],
             [
              0.4444444444444444,
              "#bd3786"
             ],
             [
              0.5555555555555556,
              "#d8576b"
             ],
             [
              0.6666666666666666,
              "#ed7953"
             ],
             [
              0.7777777777777778,
              "#fb9f3a"
             ],
             [
              0.8888888888888888,
              "#fdca26"
             ],
             [
              1,
              "#f0f921"
             ]
            ],
            "type": "heatmapgl"
           }
          ],
          "histogram": [
           {
            "marker": {
             "pattern": {
              "fillmode": "overlay",
              "size": 10,
              "solidity": 0.2
             }
            },
            "type": "histogram"
           }
          ],
          "histogram2d": [
           {
            "colorbar": {
             "outlinewidth": 0,
             "ticks": ""
            },
            "colorscale": [
             [
              0,
              "#0d0887"
             ],
             [
              0.1111111111111111,
              "#46039f"
             ],
             [
              0.2222222222222222,
              "#7201a8"
             ],
             [
              0.3333333333333333,
              "#9c179e"
             ],
             [
              0.4444444444444444,
              "#bd3786"
             ],
             [
              0.5555555555555556,
              "#d8576b"
             ],
             [
              0.6666666666666666,
              "#ed7953"
             ],
             [
              0.7777777777777778,
              "#fb9f3a"
             ],
             [
              0.8888888888888888,
              "#fdca26"
             ],
             [
              1,
              "#f0f921"
             ]
            ],
            "type": "histogram2d"
           }
          ],
          "histogram2dcontour": [
           {
            "colorbar": {
             "outlinewidth": 0,
             "ticks": ""
            },
            "colorscale": [
             [
              0,
              "#0d0887"
             ],
             [
              0.1111111111111111,
              "#46039f"
             ],
             [
              0.2222222222222222,
              "#7201a8"
             ],
             [
              0.3333333333333333,
              "#9c179e"
             ],
             [
              0.4444444444444444,
              "#bd3786"
             ],
             [
              0.5555555555555556,
              "#d8576b"
             ],
             [
              0.6666666666666666,
              "#ed7953"
             ],
             [
              0.7777777777777778,
              "#fb9f3a"
             ],
             [
              0.8888888888888888,
              "#fdca26"
             ],
             [
              1,
              "#f0f921"
             ]
            ],
            "type": "histogram2dcontour"
           }
          ],
          "mesh3d": [
           {
            "colorbar": {
             "outlinewidth": 0,
             "ticks": ""
            },
            "type": "mesh3d"
           }
          ],
          "parcoords": [
           {
            "line": {
             "colorbar": {
              "outlinewidth": 0,
              "ticks": ""
             }
            },
            "type": "parcoords"
           }
          ],
          "pie": [
           {
            "automargin": true,
            "type": "pie"
           }
          ],
          "scatter": [
           {
            "marker": {
             "line": {
              "color": "#283442"
             }
            },
            "type": "scatter"
           }
          ],
          "scatter3d": [
           {
            "line": {
             "colorbar": {
              "outlinewidth": 0,
              "ticks": ""
             }
            },
            "marker": {
             "colorbar": {
              "outlinewidth": 0,
              "ticks": ""
             }
            },
            "type": "scatter3d"
           }
          ],
          "scattercarpet": [
           {
            "marker": {
             "colorbar": {
              "outlinewidth": 0,
              "ticks": ""
             }
            },
            "type": "scattercarpet"
           }
          ],
          "scattergeo": [
           {
            "marker": {
             "colorbar": {
              "outlinewidth": 0,
              "ticks": ""
             }
            },
            "type": "scattergeo"
           }
          ],
          "scattergl": [
           {
            "marker": {
             "line": {
              "color": "#283442"
             }
            },
            "type": "scattergl"
           }
          ],
          "scattermapbox": [
           {
            "marker": {
             "colorbar": {
              "outlinewidth": 0,
              "ticks": ""
             }
            },
            "type": "scattermapbox"
           }
          ],
          "scatterpolar": [
           {
            "marker": {
             "colorbar": {
              "outlinewidth": 0,
              "ticks": ""
             }
            },
            "type": "scatterpolar"
           }
          ],
          "scatterpolargl": [
           {
            "marker": {
             "colorbar": {
              "outlinewidth": 0,
              "ticks": ""
             }
            },
            "type": "scatterpolargl"
           }
          ],
          "scatterternary": [
           {
            "marker": {
             "colorbar": {
              "outlinewidth": 0,
              "ticks": ""
             }
            },
            "type": "scatterternary"
           }
          ],
          "surface": [
           {
            "colorbar": {
             "outlinewidth": 0,
             "ticks": ""
            },
            "colorscale": [
             [
              0,
              "#0d0887"
             ],
             [
              0.1111111111111111,
              "#46039f"
             ],
             [
              0.2222222222222222,
              "#7201a8"
             ],
             [
              0.3333333333333333,
              "#9c179e"
             ],
             [
              0.4444444444444444,
              "#bd3786"
             ],
             [
              0.5555555555555556,
              "#d8576b"
             ],
             [
              0.6666666666666666,
              "#ed7953"
             ],
             [
              0.7777777777777778,
              "#fb9f3a"
             ],
             [
              0.8888888888888888,
              "#fdca26"
             ],
             [
              1,
              "#f0f921"
             ]
            ],
            "type": "surface"
           }
          ],
          "table": [
           {
            "cells": {
             "fill": {
              "color": "#506784"
             },
             "line": {
              "color": "rgb(17,17,17)"
             }
            },
            "header": {
             "fill": {
              "color": "#2a3f5f"
             },
             "line": {
              "color": "rgb(17,17,17)"
             }
            },
            "type": "table"
           }
          ]
         },
         "layout": {
          "annotationdefaults": {
           "arrowcolor": "#f2f5fa",
           "arrowhead": 0,
           "arrowwidth": 1
          },
          "autotypenumbers": "strict",
          "coloraxis": {
           "colorbar": {
            "outlinewidth": 0,
            "ticks": ""
           }
          },
          "colorscale": {
           "diverging": [
            [
             0,
             "#8e0152"
            ],
            [
             0.1,
             "#c51b7d"
            ],
            [
             0.2,
             "#de77ae"
            ],
            [
             0.3,
             "#f1b6da"
            ],
            [
             0.4,
             "#fde0ef"
            ],
            [
             0.5,
             "#f7f7f7"
            ],
            [
             0.6,
             "#e6f5d0"
            ],
            [
             0.7,
             "#b8e186"
            ],
            [
             0.8,
             "#7fbc41"
            ],
            [
             0.9,
             "#4d9221"
            ],
            [
             1,
             "#276419"
            ]
           ],
           "sequential": [
            [
             0,
             "#0d0887"
            ],
            [
             0.1111111111111111,
             "#46039f"
            ],
            [
             0.2222222222222222,
             "#7201a8"
            ],
            [
             0.3333333333333333,
             "#9c179e"
            ],
            [
             0.4444444444444444,
             "#bd3786"
            ],
            [
             0.5555555555555556,
             "#d8576b"
            ],
            [
             0.6666666666666666,
             "#ed7953"
            ],
            [
             0.7777777777777778,
             "#fb9f3a"
            ],
            [
             0.8888888888888888,
             "#fdca26"
            ],
            [
             1,
             "#f0f921"
            ]
           ],
           "sequentialminus": [
            [
             0,
             "#0d0887"
            ],
            [
             0.1111111111111111,
             "#46039f"
            ],
            [
             0.2222222222222222,
             "#7201a8"
            ],
            [
             0.3333333333333333,
             "#9c179e"
            ],
            [
             0.4444444444444444,
             "#bd3786"
            ],
            [
             0.5555555555555556,
             "#d8576b"
            ],
            [
             0.6666666666666666,
             "#ed7953"
            ],
            [
             0.7777777777777778,
             "#fb9f3a"
            ],
            [
             0.8888888888888888,
             "#fdca26"
            ],
            [
             1,
             "#f0f921"
            ]
           ]
          },
          "colorway": [
           "#636efa",
           "#EF553B",
           "#00cc96",
           "#ab63fa",
           "#FFA15A",
           "#19d3f3",
           "#FF6692",
           "#B6E880",
           "#FF97FF",
           "#FECB52"
          ],
          "font": {
           "color": "#f2f5fa"
          },
          "geo": {
           "bgcolor": "rgb(17,17,17)",
           "lakecolor": "rgb(17,17,17)",
           "landcolor": "rgb(17,17,17)",
           "showlakes": true,
           "showland": true,
           "subunitcolor": "#506784"
          },
          "hoverlabel": {
           "align": "left"
          },
          "hovermode": "closest",
          "mapbox": {
           "style": "dark"
          },
          "paper_bgcolor": "rgb(17,17,17)",
          "plot_bgcolor": "rgb(17,17,17)",
          "polar": {
           "angularaxis": {
            "gridcolor": "#506784",
            "linecolor": "#506784",
            "ticks": ""
           },
           "bgcolor": "rgb(17,17,17)",
           "radialaxis": {
            "gridcolor": "#506784",
            "linecolor": "#506784",
            "ticks": ""
           }
          },
          "scene": {
           "xaxis": {
            "backgroundcolor": "rgb(17,17,17)",
            "gridcolor": "#506784",
            "gridwidth": 2,
            "linecolor": "#506784",
            "showbackground": true,
            "ticks": "",
            "zerolinecolor": "#C8D4E3"
           },
           "yaxis": {
            "backgroundcolor": "rgb(17,17,17)",
            "gridcolor": "#506784",
            "gridwidth": 2,
            "linecolor": "#506784",
            "showbackground": true,
            "ticks": "",
            "zerolinecolor": "#C8D4E3"
           },
           "zaxis": {
            "backgroundcolor": "rgb(17,17,17)",
            "gridcolor": "#506784",
            "gridwidth": 2,
            "linecolor": "#506784",
            "showbackground": true,
            "ticks": "",
            "zerolinecolor": "#C8D4E3"
           }
          },
          "shapedefaults": {
           "line": {
            "color": "#f2f5fa"
           }
          },
          "sliderdefaults": {
           "bgcolor": "#C8D4E3",
           "bordercolor": "rgb(17,17,17)",
           "borderwidth": 1,
           "tickwidth": 0
          },
          "ternary": {
           "aaxis": {
            "gridcolor": "#506784",
            "linecolor": "#506784",
            "ticks": ""
           },
           "baxis": {
            "gridcolor": "#506784",
            "linecolor": "#506784",
            "ticks": ""
           },
           "bgcolor": "rgb(17,17,17)",
           "caxis": {
            "gridcolor": "#506784",
            "linecolor": "#506784",
            "ticks": ""
           }
          },
          "title": {
           "x": 0.05
          },
          "updatemenudefaults": {
           "bgcolor": "#506784",
           "borderwidth": 0
          },
          "xaxis": {
           "automargin": true,
           "gridcolor": "#283442",
           "linecolor": "#506784",
           "ticks": "",
           "title": {
            "standoff": 15
           },
           "zerolinecolor": "#283442",
           "zerolinewidth": 2
          },
          "yaxis": {
           "automargin": true,
           "gridcolor": "#283442",
           "linecolor": "#506784",
           "ticks": "",
           "title": {
            "standoff": 15
           },
           "zerolinecolor": "#283442",
           "zerolinewidth": 2
          }
         }
        },
        "title": {
         "text": "Player Age vs Field Goal Percentage"
        },
        "xaxis": {
         "anchor": "y",
         "domain": [
          0,
          1
         ],
         "title": {
          "text": "Age"
         }
        },
        "yaxis": {
         "anchor": "x",
         "domain": [
          0,
          1
         ],
         "title": {
          "text": "FG%"
         }
        }
       }
      }
     },
     "metadata": {},
     "output_type": "display_data"
    },
    {
     "data": {
      "application/vnd.plotly.v1+json": {
       "config": {
        "plotlyServerURL": "https://plot.ly"
       },
       "data": [
        {
         "hovertemplate": "POS=SF<br>Age=%{x}<br>AST=%{y}<extra></extra>",
         "legendgroup": "SF",
         "marker": {
          "color": "#636efa",
          "symbol": "circle"
         },
         "mode": "markers",
         "name": "SF",
         "orientation": "v",
         "showlegend": true,
         "type": "scatter",
         "x": [
          25,
          33,
          26,
          38,
          21,
          33,
          23,
          27,
          29,
          34,
          31,
          30,
          21,
          25,
          25,
          24,
          24,
          27,
          25,
          31,
          22,
          26,
          24,
          23,
          33,
          33,
          25,
          22,
          27,
          28,
          31,
          27,
          24,
          27,
          29,
          29,
          28,
          32,
          31,
          32,
          24,
          23,
          24,
          25,
          31,
          22,
          21,
          28,
          23,
          24,
          21,
          23,
          23,
          28,
          26,
          29,
          26,
          36,
          23,
          27,
          29,
          30,
          34,
          26,
          29,
          26,
          30,
          22,
          30,
          36,
          24,
          29,
          27,
          28,
          24,
          21,
          23
         ],
         "xaxis": "x",
         "y": [
          342,
          377,
          273,
          375,
          283,
          340,
          183,
          239,
          150,
          152,
          204,
          128,
          371,
          131,
          262,
          65,
          118,
          189,
          94,
          129,
          98,
          268,
          87,
          98,
          206,
          114,
          189,
          211,
          117,
          115,
          91,
          78,
          162,
          103,
          335,
          77,
          85,
          117,
          101,
          108,
          88,
          95,
          105,
          71,
          163,
          87,
          51,
          105,
          33,
          44,
          83,
          57,
          50,
          48,
          34,
          40,
          80,
          57,
          27,
          84,
          44,
          21,
          41,
          67,
          23,
          31,
          65,
          23,
          15,
          13,
          13,
          8,
          11,
          9,
          2,
          4,
          3
         ],
         "yaxis": "y"
        },
        {
         "hovertemplate": "POS=C<br>Age=%{x}<br>AST=%{y}<extra></extra>",
         "legendgroup": "C",
         "marker": {
          "color": "#EF553B",
          "symbol": "circle"
         },
         "mode": "markers",
         "name": "C",
         "orientation": "v",
         "showlegend": true,
         "type": "scatter",
         "x": [
          29,
          28,
          25,
          27,
          32,
          35,
          24,
          30,
          27,
          20,
          25,
          24,
          30,
          27,
          24,
          33,
          26,
          23,
          28,
          24,
          28,
          21,
          23,
          36,
          19,
          27,
          26,
          25,
          21,
          25,
          31,
          27,
          22,
          25,
          24,
          29,
          21,
          31,
          29,
          24,
          29,
          25,
          30,
          28,
          27,
          22,
          21,
          22,
          34,
          33,
          35,
          22,
          24,
          24,
          23,
          23,
          27,
          23,
          33,
          22,
          35,
          34,
          30,
          25,
          31,
          29,
          30,
          31,
          24,
          24,
          29,
          25,
          25,
          23,
          27,
          23,
          25,
          22
         ],
         "xaxis": "x",
         "y": [
          274,
          678,
          240,
          174,
          265,
          99,
          115,
          140,
          89,
          291,
          113,
          144,
          87,
          197,
          132,
          245,
          77,
          77,
          58,
          84,
          149,
          69,
          69,
          189,
          75,
          140,
          84,
          31,
          70,
          38,
          69,
          68,
          30,
          53,
          102,
          33,
          18,
          50,
          97,
          46,
          33,
          50,
          56,
          33,
          53,
          34,
          37,
          48,
          34,
          26,
          11,
          31,
          18,
          25,
          39,
          4,
          15,
          11,
          53,
          25,
          19,
          9,
          10,
          10,
          9,
          12,
          7,
          1,
          2,
          4,
          10,
          4,
          1,
          1,
          0,
          0,
          0,
          3
         ],
         "yaxis": "y"
        },
        {
         "hovertemplate": "POS=PG<br>Age=%{x}<br>AST=%{y}<extra></extra>",
         "legendgroup": "PG",
         "marker": {
          "color": "#00cc96",
          "symbol": "circle"
         },
         "mode": "markers",
         "name": "PG",
         "orientation": "v",
         "showlegend": true,
         "type": "scatter",
         "x": [
          24,
          24,
          24,
          32,
          25,
          35,
          26,
          31,
          23,
          23,
          30,
          23,
          26,
          32,
          30,
          27,
          22,
          21,
          23,
          34,
          28,
          30,
          23,
          21,
          24,
          29,
          26,
          37,
          35,
          21,
          22,
          23,
          23,
          29,
          33,
          24,
          22,
          27,
          31,
          26,
          27,
          37,
          25,
          28,
          22,
          28,
          25,
          24,
          31,
          34,
          32,
          27,
          36,
          22,
          21,
          26,
          25,
          24,
          34,
          23,
          21,
          36,
          22,
          32,
          27,
          30,
          34,
          23,
          24,
          22,
          24,
          34,
          32,
          25,
          32,
          23,
          28
         ],
         "xaxis": "x",
         "y": [
          529,
          371,
          741,
          425,
          447,
          352,
          421,
          331,
          493,
          538,
          515,
          280,
          400,
          495,
          270,
          437,
          212,
          387,
          585,
          551,
          321,
          248,
          448,
          304,
          341,
          298,
          417,
          524,
          450,
          470,
          235,
          204,
          341,
          382,
          233,
          138,
          172,
          197,
          397,
          167,
          326,
          281,
          186,
          196,
          120,
          214,
          261,
          185,
          217,
          194,
          178,
          68,
          151,
          54,
          152,
          256,
          64,
          70,
          56,
          63,
          72,
          110,
          72,
          115,
          148,
          79,
          46,
          36,
          58,
          23,
          58,
          100,
          19,
          31,
          41,
          27,
          5
         ],
         "yaxis": "y"
        },
        {
         "hovertemplate": "POS=PF<br>Age=%{x}<br>AST=%{y}<extra></extra>",
         "legendgroup": "PF",
         "marker": {
          "color": "#ab63fa",
          "symbol": "circle"
         },
         "mode": "markers",
         "name": "PF",
         "orientation": "v",
         "showlegend": true,
         "type": "scatter",
         "x": [
          28,
          28,
          29,
          25,
          26,
          30,
          20,
          34,
          21,
          23,
          24,
          27,
          30,
          19,
          22,
          25,
          32,
          21,
          22,
          25,
          22,
          25,
          30,
          25,
          22,
          29,
          20,
          23,
          24,
          24,
          33,
          27,
          26,
          29,
          26,
          34,
          23,
          24,
          25,
          29,
          34,
          22,
          30,
          36,
          29,
          24,
          26,
          22,
          32,
          22,
          37,
          23,
          34,
          21,
          22,
          31,
          26,
          27,
          30,
          34,
          22,
          24,
          33,
          24,
          32,
          27,
          30,
          25,
          36,
          21,
          42,
          27,
          26,
          21
         ],
         "xaxis": "x",
         "y": [
          359,
          316,
          415,
          123,
          573,
          148,
          269,
          235,
          224,
          60,
          175,
          203,
          186,
          101,
          148,
          85,
          252,
          100,
          81,
          130,
          133,
          180,
          29,
          58,
          97,
          283,
          125,
          66,
          131,
          184,
          500,
          66,
          72,
          100,
          103,
          116,
          50,
          36,
          66,
          84,
          121,
          130,
          119,
          69,
          74,
          41,
          40,
          43,
          57,
          18,
          60,
          62,
          75,
          64,
          38,
          52,
          37,
          98,
          34,
          61,
          15,
          31,
          31,
          37,
          27,
          25,
          32,
          6,
          15,
          3,
          0,
          7,
          3,
          4
         ],
         "yaxis": "y"
        },
        {
         "hovertemplate": "POS=SG<br>Age=%{x}<br>AST=%{y}<extra></extra>",
         "legendgroup": "SG",
         "marker": {
          "color": "#FFA15A",
          "symbol": "circle"
         },
         "mode": "markers",
         "name": "SG",
         "orientation": "v",
         "showlegend": true,
         "type": "scatter",
         "x": [
          21,
          26,
          28,
          26,
          21,
          23,
          31,
          26,
          33,
          26,
          22,
          30,
          29,
          29,
          23,
          20,
          20,
          24,
          33,
          23,
          29,
          24,
          22,
          24,
          22,
          25,
          26,
          27,
          27,
          28,
          34,
          24,
          30,
          22,
          19,
          24,
          30,
          27,
          28,
          26,
          23,
          22,
          22,
          23,
          23,
          26,
          29,
          31,
          26,
          21,
          30,
          32,
          22,
          26,
          21,
          24,
          24,
          30,
          30,
          25,
          28,
          29,
          21,
          31,
          27,
          24,
          25,
          26,
          35,
          25,
          20,
          23,
          26,
          26,
          30,
          21,
          25,
          22,
          21,
          36,
          25,
          30,
          21,
          25,
          30,
          25,
          29,
          27,
          22,
          20,
          24,
          26,
          26,
          20,
          19,
          26,
          23,
          29,
          24,
          20,
          28
         ],
         "xaxis": "x",
         "y": [
          350,
          301,
          327,
          232,
          281,
          369,
          429,
          448,
          163,
          293,
          201,
          225,
          495,
          319,
          253,
          116,
          469,
          254,
          618,
          279,
          271,
          106,
          112,
          221,
          338,
          298,
          124,
          54,
          171,
          287,
          183,
          215,
          183,
          150,
          94,
          197,
          150,
          163,
          290,
          184,
          132,
          136,
          246,
          88,
          206,
          252,
          174,
          114,
          240,
          78,
          99,
          99,
          103,
          91,
          155,
          55,
          80,
          77,
          146,
          67,
          59,
          193,
          73,
          194,
          100,
          108,
          64,
          93,
          150,
          135,
          51,
          50,
          53,
          26,
          75,
          132,
          53,
          41,
          59,
          34,
          53,
          36,
          20,
          22,
          30,
          50,
          17,
          23,
          8,
          18,
          9,
          5,
          6,
          11,
          3,
          1,
          0,
          0,
          1,
          0,
          2
         ],
         "yaxis": "y"
        },
        {
         "hovertemplate": "POS=F<br>Age=%{x}<br>AST=%{y}<extra></extra>",
         "legendgroup": "F",
         "marker": {
          "color": "#19d3f3",
          "symbol": "circle"
         },
         "mode": "markers",
         "name": "F",
         "orientation": "v",
         "showlegend": true,
         "type": "scatter",
         "x": [
          33,
          27,
          22,
          22,
          28,
          21,
          19,
          19,
          27,
          22,
          24,
          25,
          26,
          32,
          25,
          27,
          20,
          26,
          21,
          29,
          22,
          20,
          28,
          26,
          20,
          25,
          21,
          19,
          25,
          37,
          21,
          25,
          29,
          26,
          20,
          20,
          19,
          21,
          24,
          23,
          20,
          19,
          20,
          23,
          33,
          35,
          21,
          26,
          20,
          20,
          23,
          25,
          23,
          39,
          24,
          25,
          23,
          23,
          23,
          23,
          27,
          22,
          27,
          24,
          27,
          26
         ],
         "xaxis": "x",
         "y": [
          288,
          121,
          248,
          123,
          105,
          88,
          73,
          142,
          207,
          59,
          96,
          96,
          36,
          51,
          33,
          42,
          76,
          28,
          64,
          46,
          35,
          36,
          53,
          43,
          34,
          28,
          35,
          46,
          38,
          34,
          10,
          13,
          9,
          16,
          11,
          20,
          24,
          21,
          12,
          10,
          22,
          10,
          11,
          15,
          4,
          6,
          4,
          8,
          5,
          11,
          3,
          4,
          4,
          19,
          4,
          5,
          4,
          7,
          1,
          4,
          1,
          7,
          0,
          1,
          1,
          0
         ],
         "yaxis": "y"
        },
        {
         "hovertemplate": "POS=G<br>Age=%{x}<br>AST=%{y}<extra></extra>",
         "legendgroup": "G",
         "marker": {
          "color": "#FF6692",
          "symbol": "circle"
         },
         "mode": "markers",
         "name": "G",
         "orientation": "v",
         "showlegend": true,
         "type": "scatter",
         "x": [
          29,
          24,
          19,
          24,
          32,
          27,
          23,
          20,
          24,
          32,
          22,
          29,
          26,
          20,
          20,
          20,
          20,
          31,
          21,
          23,
          23,
          21,
          25,
          20,
          27,
          22,
          23,
          20,
          22,
          24,
          24,
          24,
          25,
          23,
          25,
          24,
          29,
          20,
          21,
          27,
          22,
          22,
          21,
          29,
          29,
          23,
          20,
          26,
          24,
          25,
          31,
          23,
          22,
          22,
          32,
          22,
          24,
          27,
          25,
          26,
          22,
          21,
          23,
          24,
          19,
          24
         ],
         "xaxis": "x",
         "y": [
          109,
          154,
          127,
          64,
          95,
          90,
          67,
          65,
          168,
          112,
          59,
          124,
          89,
          54,
          134,
          30,
          98,
          28,
          28,
          22,
          67,
          47,
          16,
          21,
          46,
          8,
          21,
          58,
          2,
          15,
          10,
          38,
          14,
          4,
          22,
          6,
          30,
          8,
          18,
          6,
          17,
          4,
          11,
          23,
          5,
          6,
          6,
          10,
          2,
          6,
          7,
          4,
          2,
          1,
          9,
          2,
          3,
          0,
          5,
          0,
          0,
          0,
          8,
          7,
          0,
          0
         ],
         "yaxis": "y"
        }
       ],
       "layout": {
        "legend": {
         "title": {
          "text": "POS"
         },
         "tracegroupgap": 0
        },
        "template": {
         "data": {
          "bar": [
           {
            "error_x": {
             "color": "#f2f5fa"
            },
            "error_y": {
             "color": "#f2f5fa"
            },
            "marker": {
             "line": {
              "color": "rgb(17,17,17)",
              "width": 0.5
             },
             "pattern": {
              "fillmode": "overlay",
              "size": 10,
              "solidity": 0.2
             }
            },
            "type": "bar"
           }
          ],
          "barpolar": [
           {
            "marker": {
             "line": {
              "color": "rgb(17,17,17)",
              "width": 0.5
             },
             "pattern": {
              "fillmode": "overlay",
              "size": 10,
              "solidity": 0.2
             }
            },
            "type": "barpolar"
           }
          ],
          "carpet": [
           {
            "aaxis": {
             "endlinecolor": "#A2B1C6",
             "gridcolor": "#506784",
             "linecolor": "#506784",
             "minorgridcolor": "#506784",
             "startlinecolor": "#A2B1C6"
            },
            "baxis": {
             "endlinecolor": "#A2B1C6",
             "gridcolor": "#506784",
             "linecolor": "#506784",
             "minorgridcolor": "#506784",
             "startlinecolor": "#A2B1C6"
            },
            "type": "carpet"
           }
          ],
          "choropleth": [
           {
            "colorbar": {
             "outlinewidth": 0,
             "ticks": ""
            },
            "type": "choropleth"
           }
          ],
          "contour": [
           {
            "colorbar": {
             "outlinewidth": 0,
             "ticks": ""
            },
            "colorscale": [
             [
              0,
              "#0d0887"
             ],
             [
              0.1111111111111111,
              "#46039f"
             ],
             [
              0.2222222222222222,
              "#7201a8"
             ],
             [
              0.3333333333333333,
              "#9c179e"
             ],
             [
              0.4444444444444444,
              "#bd3786"
             ],
             [
              0.5555555555555556,
              "#d8576b"
             ],
             [
              0.6666666666666666,
              "#ed7953"
             ],
             [
              0.7777777777777778,
              "#fb9f3a"
             ],
             [
              0.8888888888888888,
              "#fdca26"
             ],
             [
              1,
              "#f0f921"
             ]
            ],
            "type": "contour"
           }
          ],
          "contourcarpet": [
           {
            "colorbar": {
             "outlinewidth": 0,
             "ticks": ""
            },
            "type": "contourcarpet"
           }
          ],
          "heatmap": [
           {
            "colorbar": {
             "outlinewidth": 0,
             "ticks": ""
            },
            "colorscale": [
             [
              0,
              "#0d0887"
             ],
             [
              0.1111111111111111,
              "#46039f"
             ],
             [
              0.2222222222222222,
              "#7201a8"
             ],
             [
              0.3333333333333333,
              "#9c179e"
             ],
             [
              0.4444444444444444,
              "#bd3786"
             ],
             [
              0.5555555555555556,
              "#d8576b"
             ],
             [
              0.6666666666666666,
              "#ed7953"
             ],
             [
              0.7777777777777778,
              "#fb9f3a"
             ],
             [
              0.8888888888888888,
              "#fdca26"
             ],
             [
              1,
              "#f0f921"
             ]
            ],
            "type": "heatmap"
           }
          ],
          "heatmapgl": [
           {
            "colorbar": {
             "outlinewidth": 0,
             "ticks": ""
            },
            "colorscale": [
             [
              0,
              "#0d0887"
             ],
             [
              0.1111111111111111,
              "#46039f"
             ],
             [
              0.2222222222222222,
              "#7201a8"
             ],
             [
              0.3333333333333333,
              "#9c179e"
             ],
             [
              0.4444444444444444,
              "#bd3786"
             ],
             [
              0.5555555555555556,
              "#d8576b"
             ],
             [
              0.6666666666666666,
              "#ed7953"
             ],
             [
              0.7777777777777778,
              "#fb9f3a"
             ],
             [
              0.8888888888888888,
              "#fdca26"
             ],
             [
              1,
              "#f0f921"
             ]
            ],
            "type": "heatmapgl"
           }
          ],
          "histogram": [
           {
            "marker": {
             "pattern": {
              "fillmode": "overlay",
              "size": 10,
              "solidity": 0.2
             }
            },
            "type": "histogram"
           }
          ],
          "histogram2d": [
           {
            "colorbar": {
             "outlinewidth": 0,
             "ticks": ""
            },
            "colorscale": [
             [
              0,
              "#0d0887"
             ],
             [
              0.1111111111111111,
              "#46039f"
             ],
             [
              0.2222222222222222,
              "#7201a8"
             ],
             [
              0.3333333333333333,
              "#9c179e"
             ],
             [
              0.4444444444444444,
              "#bd3786"
             ],
             [
              0.5555555555555556,
              "#d8576b"
             ],
             [
              0.6666666666666666,
              "#ed7953"
             ],
             [
              0.7777777777777778,
              "#fb9f3a"
             ],
             [
              0.8888888888888888,
              "#fdca26"
             ],
             [
              1,
              "#f0f921"
             ]
            ],
            "type": "histogram2d"
           }
          ],
          "histogram2dcontour": [
           {
            "colorbar": {
             "outlinewidth": 0,
             "ticks": ""
            },
            "colorscale": [
             [
              0,
              "#0d0887"
             ],
             [
              0.1111111111111111,
              "#46039f"
             ],
             [
              0.2222222222222222,
              "#7201a8"
             ],
             [
              0.3333333333333333,
              "#9c179e"
             ],
             [
              0.4444444444444444,
              "#bd3786"
             ],
             [
              0.5555555555555556,
              "#d8576b"
             ],
             [
              0.6666666666666666,
              "#ed7953"
             ],
             [
              0.7777777777777778,
              "#fb9f3a"
             ],
             [
              0.8888888888888888,
              "#fdca26"
             ],
             [
              1,
              "#f0f921"
             ]
            ],
            "type": "histogram2dcontour"
           }
          ],
          "mesh3d": [
           {
            "colorbar": {
             "outlinewidth": 0,
             "ticks": ""
            },
            "type": "mesh3d"
           }
          ],
          "parcoords": [
           {
            "line": {
             "colorbar": {
              "outlinewidth": 0,
              "ticks": ""
             }
            },
            "type": "parcoords"
           }
          ],
          "pie": [
           {
            "automargin": true,
            "type": "pie"
           }
          ],
          "scatter": [
           {
            "marker": {
             "line": {
              "color": "#283442"
             }
            },
            "type": "scatter"
           }
          ],
          "scatter3d": [
           {
            "line": {
             "colorbar": {
              "outlinewidth": 0,
              "ticks": ""
             }
            },
            "marker": {
             "colorbar": {
              "outlinewidth": 0,
              "ticks": ""
             }
            },
            "type": "scatter3d"
           }
          ],
          "scattercarpet": [
           {
            "marker": {
             "colorbar": {
              "outlinewidth": 0,
              "ticks": ""
             }
            },
            "type": "scattercarpet"
           }
          ],
          "scattergeo": [
           {
            "marker": {
             "colorbar": {
              "outlinewidth": 0,
              "ticks": ""
             }
            },
            "type": "scattergeo"
           }
          ],
          "scattergl": [
           {
            "marker": {
             "line": {
              "color": "#283442"
             }
            },
            "type": "scattergl"
           }
          ],
          "scattermapbox": [
           {
            "marker": {
             "colorbar": {
              "outlinewidth": 0,
              "ticks": ""
             }
            },
            "type": "scattermapbox"
           }
          ],
          "scatterpolar": [
           {
            "marker": {
             "colorbar": {
              "outlinewidth": 0,
              "ticks": ""
             }
            },
            "type": "scatterpolar"
           }
          ],
          "scatterpolargl": [
           {
            "marker": {
             "colorbar": {
              "outlinewidth": 0,
              "ticks": ""
             }
            },
            "type": "scatterpolargl"
           }
          ],
          "scatterternary": [
           {
            "marker": {
             "colorbar": {
              "outlinewidth": 0,
              "ticks": ""
             }
            },
            "type": "scatterternary"
           }
          ],
          "surface": [
           {
            "colorbar": {
             "outlinewidth": 0,
             "ticks": ""
            },
            "colorscale": [
             [
              0,
              "#0d0887"
             ],
             [
              0.1111111111111111,
              "#46039f"
             ],
             [
              0.2222222222222222,
              "#7201a8"
             ],
             [
              0.3333333333333333,
              "#9c179e"
             ],
             [
              0.4444444444444444,
              "#bd3786"
             ],
             [
              0.5555555555555556,
              "#d8576b"
             ],
             [
              0.6666666666666666,
              "#ed7953"
             ],
             [
              0.7777777777777778,
              "#fb9f3a"
             ],
             [
              0.8888888888888888,
              "#fdca26"
             ],
             [
              1,
              "#f0f921"
             ]
            ],
            "type": "surface"
           }
          ],
          "table": [
           {
            "cells": {
             "fill": {
              "color": "#506784"
             },
             "line": {
              "color": "rgb(17,17,17)"
             }
            },
            "header": {
             "fill": {
              "color": "#2a3f5f"
             },
             "line": {
              "color": "rgb(17,17,17)"
             }
            },
            "type": "table"
           }
          ]
         },
         "layout": {
          "annotationdefaults": {
           "arrowcolor": "#f2f5fa",
           "arrowhead": 0,
           "arrowwidth": 1
          },
          "autotypenumbers": "strict",
          "coloraxis": {
           "colorbar": {
            "outlinewidth": 0,
            "ticks": ""
           }
          },
          "colorscale": {
           "diverging": [
            [
             0,
             "#8e0152"
            ],
            [
             0.1,
             "#c51b7d"
            ],
            [
             0.2,
             "#de77ae"
            ],
            [
             0.3,
             "#f1b6da"
            ],
            [
             0.4,
             "#fde0ef"
            ],
            [
             0.5,
             "#f7f7f7"
            ],
            [
             0.6,
             "#e6f5d0"
            ],
            [
             0.7,
             "#b8e186"
            ],
            [
             0.8,
             "#7fbc41"
            ],
            [
             0.9,
             "#4d9221"
            ],
            [
             1,
             "#276419"
            ]
           ],
           "sequential": [
            [
             0,
             "#0d0887"
            ],
            [
             0.1111111111111111,
             "#46039f"
            ],
            [
             0.2222222222222222,
             "#7201a8"
            ],
            [
             0.3333333333333333,
             "#9c179e"
            ],
            [
             0.4444444444444444,
             "#bd3786"
            ],
            [
             0.5555555555555556,
             "#d8576b"
            ],
            [
             0.6666666666666666,
             "#ed7953"
            ],
            [
             0.7777777777777778,
             "#fb9f3a"
            ],
            [
             0.8888888888888888,
             "#fdca26"
            ],
            [
             1,
             "#f0f921"
            ]
           ],
           "sequentialminus": [
            [
             0,
             "#0d0887"
            ],
            [
             0.1111111111111111,
             "#46039f"
            ],
            [
             0.2222222222222222,
             "#7201a8"
            ],
            [
             0.3333333333333333,
             "#9c179e"
            ],
            [
             0.4444444444444444,
             "#bd3786"
            ],
            [
             0.5555555555555556,
             "#d8576b"
            ],
            [
             0.6666666666666666,
             "#ed7953"
            ],
            [
             0.7777777777777778,
             "#fb9f3a"
            ],
            [
             0.8888888888888888,
             "#fdca26"
            ],
            [
             1,
             "#f0f921"
            ]
           ]
          },
          "colorway": [
           "#636efa",
           "#EF553B",
           "#00cc96",
           "#ab63fa",
           "#FFA15A",
           "#19d3f3",
           "#FF6692",
           "#B6E880",
           "#FF97FF",
           "#FECB52"
          ],
          "font": {
           "color": "#f2f5fa"
          },
          "geo": {
           "bgcolor": "rgb(17,17,17)",
           "lakecolor": "rgb(17,17,17)",
           "landcolor": "rgb(17,17,17)",
           "showlakes": true,
           "showland": true,
           "subunitcolor": "#506784"
          },
          "hoverlabel": {
           "align": "left"
          },
          "hovermode": "closest",
          "mapbox": {
           "style": "dark"
          },
          "paper_bgcolor": "rgb(17,17,17)",
          "plot_bgcolor": "rgb(17,17,17)",
          "polar": {
           "angularaxis": {
            "gridcolor": "#506784",
            "linecolor": "#506784",
            "ticks": ""
           },
           "bgcolor": "rgb(17,17,17)",
           "radialaxis": {
            "gridcolor": "#506784",
            "linecolor": "#506784",
            "ticks": ""
           }
          },
          "scene": {
           "xaxis": {
            "backgroundcolor": "rgb(17,17,17)",
            "gridcolor": "#506784",
            "gridwidth": 2,
            "linecolor": "#506784",
            "showbackground": true,
            "ticks": "",
            "zerolinecolor": "#C8D4E3"
           },
           "yaxis": {
            "backgroundcolor": "rgb(17,17,17)",
            "gridcolor": "#506784",
            "gridwidth": 2,
            "linecolor": "#506784",
            "showbackground": true,
            "ticks": "",
            "zerolinecolor": "#C8D4E3"
           },
           "zaxis": {
            "backgroundcolor": "rgb(17,17,17)",
            "gridcolor": "#506784",
            "gridwidth": 2,
            "linecolor": "#506784",
            "showbackground": true,
            "ticks": "",
            "zerolinecolor": "#C8D4E3"
           }
          },
          "shapedefaults": {
           "line": {
            "color": "#f2f5fa"
           }
          },
          "sliderdefaults": {
           "bgcolor": "#C8D4E3",
           "bordercolor": "rgb(17,17,17)",
           "borderwidth": 1,
           "tickwidth": 0
          },
          "ternary": {
           "aaxis": {
            "gridcolor": "#506784",
            "linecolor": "#506784",
            "ticks": ""
           },
           "baxis": {
            "gridcolor": "#506784",
            "linecolor": "#506784",
            "ticks": ""
           },
           "bgcolor": "rgb(17,17,17)",
           "caxis": {
            "gridcolor": "#506784",
            "linecolor": "#506784",
            "ticks": ""
           }
          },
          "title": {
           "x": 0.05
          },
          "updatemenudefaults": {
           "bgcolor": "#506784",
           "borderwidth": 0
          },
          "xaxis": {
           "automargin": true,
           "gridcolor": "#283442",
           "linecolor": "#506784",
           "ticks": "",
           "title": {
            "standoff": 15
           },
           "zerolinecolor": "#283442",
           "zerolinewidth": 2
          },
          "yaxis": {
           "automargin": true,
           "gridcolor": "#283442",
           "linecolor": "#506784",
           "ticks": "",
           "title": {
            "standoff": 15
           },
           "zerolinecolor": "#283442",
           "zerolinewidth": 2
          }
         }
        },
        "title": {
         "text": "Player Age vs Assists"
        },
        "xaxis": {
         "anchor": "y",
         "domain": [
          0,
          1
         ],
         "title": {
          "text": "Age"
         }
        },
        "yaxis": {
         "anchor": "x",
         "domain": [
          0,
          1
         ],
         "title": {
          "text": "AST"
         }
        }
       }
      }
     },
     "metadata": {},
     "output_type": "display_data"
    }
   ],
   "source": [
    "fig_total_points = px.scatter(\n",
    "    df,\n",
    "    x=\"Age\",\n",
    "    y=\"PTS\",\n",
    "    color=\"POS\",\n",
    "    title=\"Player Age vs Total Points\",\n",
    "    labels={\"Age\": \"Age\", \"Total_Points\": \"Total Points\"},\n",
    "    template=\"plotly_dark\",\n",
    ")\n",
    "fig_total_points.show()\n",
    "\n",
    "fig_fg_percentage = px.scatter(\n",
    "    df,\n",
    "    x=\"Age\",\n",
    "    y=\"FG%\",\n",
    "    color=\"POS\",\n",
    "    title=\"Player Age vs Field Goal Percentage\",\n",
    "    labels={\"Age\": \"Age\", \"Field_Goal_Percentage\": \"Field Goal Percentage\"},\n",
    "    template=\"plotly_dark\",\n",
    ")\n",
    "fig_fg_percentage.show()\n",
    "\n",
    "fig_assists = px.scatter(\n",
    "    df,\n",
    "    x=\"Age\",\n",
    "    y=\"AST\",\n",
    "    color=\"POS\",\n",
    "    title=\"Player Age vs Assists\",\n",
    "    labels={\"Age\": \"Age\", \"Assists\": \"Assists\"},\n",
    "    template=\"plotly_dark\",\n",
    ")\n",
    "fig_assists.show()"
   ]
  },
  {
   "cell_type": "code",
   "execution_count": null,
   "metadata": {},
   "outputs": [],
   "source": []
  }
 ],
 "metadata": {
  "kernelspec": {
   "display_name": "Python 3",
   "language": "python",
   "name": "python3"
  },
  "language_info": {
   "codemirror_mode": {
    "name": "ipython",
    "version": 3
   },
   "file_extension": ".py",
   "mimetype": "text/x-python",
   "name": "python",
   "nbconvert_exporter": "python",
   "pygments_lexer": "ipython3",
   "version": "3.11.9"
  }
 },
 "nbformat": 4,
 "nbformat_minor": 2
}
